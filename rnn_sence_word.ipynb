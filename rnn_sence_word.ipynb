{
 "cells": [
  {
   "cell_type": "code",
   "execution_count": 5,
   "id": "initial_id",
   "metadata": {
    "collapsed": true,
    "ExecuteTime": {
     "end_time": "2024-02-16T13:46:25.762633800Z",
     "start_time": "2024-02-16T13:46:25.719782Z"
    }
   },
   "outputs": [],
   "source": [
    "import re\n",
    "\n",
    "import numpy as np\n",
    "from tensorflow.keras.layers import Dense, SimpleRNN, Input\n",
    "from tensorflow.keras.models import Sequential\n",
    "from tensorflow.keras.optimizers import Adam\n",
    "from tensorflow.keras.preprocessing.text import Tokenizer\n",
    "from tensorflow.keras.utils import to_categorical"
   ]
  },
  {
   "cell_type": "code",
   "outputs": [],
   "source": [
    "with open('train_data_true.txt', 'r', encoding='utf-8') as f:\n",
    "    text = f.read()\n",
    "    text = text.replace(r'\\ufeff', '')\n",
    "    \n",
    "max_words_count = 1000\n",
    "tokenizer = Tokenizer(num_words=max_words_count, filters='!–\"—#$%&amp;()*+,-./:;<=>?@[\\\\]^_`{|}~\\t\\n\\r«»', char_level=False, lower=True, split=' ')\n",
    "\n",
    "tokenizer.fit_on_texts([text])"
   ],
   "metadata": {
    "collapsed": false,
    "ExecuteTime": {
     "end_time": "2024-02-16T13:46:25.869777Z",
     "start_time": "2024-02-16T13:46:25.749107700Z"
    }
   },
   "id": "fc6b368eebe07124",
   "execution_count": 6
  },
  {
   "cell_type": "code",
   "outputs": [],
   "source": [
    "inp_words = 3\n",
    "data = tokenizer.texts_to_sequences([text])\n",
    "res = to_categorical(data[0], num_classes=max_words_count)\n",
    "\n",
    "n = res.shape[0] - inp_words"
   ],
   "metadata": {
    "collapsed": false,
    "ExecuteTime": {
     "end_time": "2024-02-16T13:46:25.891261600Z",
     "start_time": "2024-02-16T13:46:25.799111Z"
    }
   },
   "id": "4f35f5fee0778db2",
   "execution_count": 7
  },
  {
   "cell_type": "code",
   "outputs": [],
   "source": [
    "X = np.array([res[i:i + inp_words, :] for i in range(n)])\n",
    "Y = res[inp_words:]"
   ],
   "metadata": {
    "collapsed": false,
    "ExecuteTime": {
     "end_time": "2024-02-16T13:46:25.922184400Z",
     "start_time": "2024-02-16T13:46:25.851778300Z"
    }
   },
   "id": "bf6e0ed10567db42",
   "execution_count": 8
  },
  {
   "cell_type": "code",
   "outputs": [
    {
     "name": "stdout",
     "output_type": "stream",
     "text": [
      "WARNING:tensorflow:From C:\\Users\\kliker\\AppData\\Local\\Programs\\Python\\Python310\\lib\\site-packages\\keras\\src\\backend.py:873: The name tf.get_default_graph is deprecated. Please use tf.compat.v1.get_default_graph instead.\n",
      "WARNING:tensorflow:From C:\\Users\\kliker\\AppData\\Local\\Programs\\Python\\Python310\\lib\\site-packages\\keras\\src\\optimizers\\__init__.py:309: The name tf.train.Optimizer is deprecated. Please use tf.compat.v1.train.Optimizer instead.\n"
     ]
    }
   ],
   "source": [
    "model = Sequential()\n",
    "model.add(Input((inp_words, max_words_count)))\n",
    "model.add(SimpleRNN(\n",
    "    128, activation='tanh'\n",
    "))\n",
    "\n",
    "model.add(Dense(\n",
    "    max_words_count, activation='softmax'\n",
    "))\n",
    "\n",
    "model.compile(loss='categorical_crossentropy', metrics=['accuracy'], optimizer='adam')"
   ],
   "metadata": {
    "collapsed": false,
    "ExecuteTime": {
     "end_time": "2024-02-16T13:46:27.675080500Z",
     "start_time": "2024-02-16T13:46:25.883263900Z"
    }
   },
   "id": "ff21796d3858615",
   "execution_count": 9
  },
  {
   "cell_type": "code",
   "outputs": [
    {
     "name": "stdout",
     "output_type": "stream",
     "text": [
      "Epoch 1/32\n",
      "WARNING:tensorflow:From C:\\Users\\kliker\\AppData\\Local\\Programs\\Python\\Python310\\lib\\site-packages\\keras\\src\\utils\\tf_utils.py:492: The name tf.ragged.RaggedTensorValue is deprecated. Please use tf.compat.v1.ragged.RaggedTensorValue instead.\n",
      "WARNING:tensorflow:From C:\\Users\\kliker\\AppData\\Local\\Programs\\Python\\Python310\\lib\\site-packages\\keras\\src\\engine\\base_layer_utils.py:384: The name tf.executing_eagerly_outside_functions is deprecated. Please use tf.compat.v1.executing_eagerly_outside_functions instead.\n",
      "20/20 [==============================] - 3s 11ms/step - loss: 6.8996 - accuracy: 0.0041\n",
      "Epoch 2/32\n",
      "20/20 [==============================] - 0s 11ms/step - loss: 6.6935 - accuracy: 0.0872\n",
      "Epoch 3/32\n",
      "20/20 [==============================] - 0s 10ms/step - loss: 6.0566 - accuracy: 0.0365\n",
      "Epoch 4/32\n",
      "20/20 [==============================] - 0s 11ms/step - loss: 5.7771 - accuracy: 0.0558\n",
      "Epoch 5/32\n",
      "20/20 [==============================] - 0s 11ms/step - loss: 5.6649 - accuracy: 0.0568\n",
      "Epoch 6/32\n",
      "20/20 [==============================] - 0s 11ms/step - loss: 5.5444 - accuracy: 0.0477\n",
      "Epoch 7/32\n",
      "20/20 [==============================] - 0s 11ms/step - loss: 5.4096 - accuracy: 0.0619\n",
      "Epoch 8/32\n",
      "20/20 [==============================] - 0s 11ms/step - loss: 5.2537 - accuracy: 0.0629\n",
      "Epoch 9/32\n",
      "20/20 [==============================] - 0s 11ms/step - loss: 5.0745 - accuracy: 0.1166\n",
      "Epoch 10/32\n",
      "20/20 [==============================] - 0s 12ms/step - loss: 4.8537 - accuracy: 0.1511\n",
      "Epoch 11/32\n",
      "20/20 [==============================] - 0s 11ms/step - loss: 4.5874 - accuracy: 0.1937\n",
      "Epoch 12/32\n",
      "20/20 [==============================] - 0s 11ms/step - loss: 4.2705 - accuracy: 0.2495\n",
      "Epoch 13/32\n",
      "20/20 [==============================] - 0s 11ms/step - loss: 3.9192 - accuracy: 0.3408\n",
      "Epoch 14/32\n",
      "20/20 [==============================] - 0s 11ms/step - loss: 3.5534 - accuracy: 0.4391\n",
      "Epoch 15/32\n",
      "20/20 [==============================] - 0s 11ms/step - loss: 3.1912 - accuracy: 0.5142\n",
      "Epoch 16/32\n",
      "20/20 [==============================] - 0s 11ms/step - loss: 2.8360 - accuracy: 0.5892\n",
      "Epoch 17/32\n",
      "20/20 [==============================] - 0s 11ms/step - loss: 2.5011 - accuracy: 0.6430\n",
      "Epoch 18/32\n",
      "20/20 [==============================] - 0s 11ms/step - loss: 2.1918 - accuracy: 0.6684\n",
      "Epoch 19/32\n",
      "20/20 [==============================] - 0s 11ms/step - loss: 1.9178 - accuracy: 0.7150\n",
      "Epoch 20/32\n",
      "20/20 [==============================] - 0s 11ms/step - loss: 1.6785 - accuracy: 0.7262\n",
      "Epoch 21/32\n",
      "20/20 [==============================] - 0s 12ms/step - loss: 1.4809 - accuracy: 0.7556\n",
      "Epoch 22/32\n",
      "20/20 [==============================] - 0s 13ms/step - loss: 1.3171 - accuracy: 0.7921\n",
      "Epoch 23/32\n",
      "20/20 [==============================] - 0s 11ms/step - loss: 1.1828 - accuracy: 0.8103\n",
      "Epoch 24/32\n",
      "20/20 [==============================] - 0s 10ms/step - loss: 1.0721 - accuracy: 0.8276\n",
      "Epoch 25/32\n",
      "20/20 [==============================] - 0s 11ms/step - loss: 0.9820 - accuracy: 0.8580\n",
      "Epoch 26/32\n",
      "20/20 [==============================] - 0s 11ms/step - loss: 0.9015 - accuracy: 0.8692\n",
      "Epoch 27/32\n",
      "20/20 [==============================] - 0s 11ms/step - loss: 0.8324 - accuracy: 0.8925\n",
      "Epoch 28/32\n",
      "20/20 [==============================] - 0s 12ms/step - loss: 0.7758 - accuracy: 0.9026\n",
      "Epoch 29/32\n",
      "20/20 [==============================] - 0s 11ms/step - loss: 0.7244 - accuracy: 0.9128\n",
      "Epoch 30/32\n",
      "20/20 [==============================] - 0s 10ms/step - loss: 0.6791 - accuracy: 0.9249\n",
      "Epoch 31/32\n",
      "20/20 [==============================] - 0s 11ms/step - loss: 0.6370 - accuracy: 0.9270\n",
      "Epoch 32/32\n",
      "20/20 [==============================] - 0s 11ms/step - loss: 0.5982 - accuracy: 0.9381\n"
     ]
    }
   ],
   "source": [
    "history = model.fit(X, Y, epochs=32, batch_size=50)"
   ],
   "metadata": {
    "collapsed": false,
    "ExecuteTime": {
     "end_time": "2024-02-16T13:46:38.248337100Z",
     "start_time": "2024-02-16T13:46:27.687828200Z"
    }
   },
   "id": "3232657ea3362c45",
   "execution_count": 10
  },
  {
   "cell_type": "code",
   "outputs": [],
   "source": [
    "def build_phrase(texts, str_len=20):\n",
    "    res = texts\n",
    "    data = tokenizer.texts_to_sequences([texts])[0]\n",
    "    for i in range(str_len):\n",
    "        x = to_categorical(data[i: i + inp_words], num_classes=max_words_count)  # преобразуем в One-Hot-encoding\n",
    "        inp = x.reshape(1, inp_words, max_words_count)\n",
    "\n",
    "        pred = model.predict(inp)\n",
    "        indx = pred.argmax(axis=1)[0]\n",
    "        data.append(indx)\n",
    "        \n",
    "        res += \" \" + tokenizer.index_word[indx]\n",
    "        \n",
    "    return res"
   ],
   "metadata": {
    "collapsed": false,
    "ExecuteTime": {
     "end_time": "2024-02-16T13:46:38.312208300Z",
     "start_time": "2024-02-16T13:46:38.254652500Z"
    }
   },
   "id": "ec68a6ac7e750f2a",
   "execution_count": 11
  },
  {
   "cell_type": "code",
   "outputs": [
    {
     "ename": "ValueError",
     "evalue": "cannot reshape array of size 1000 into shape (1,3,1000)",
     "output_type": "error",
     "traceback": [
      "\u001B[1;31m---------------------------------------------------------------------------\u001B[0m",
      "\u001B[1;31mValueError\u001B[0m                                Traceback (most recent call last)",
      "Cell \u001B[1;32mIn[14], line 1\u001B[0m\n\u001B[1;32m----> 1\u001B[0m res \u001B[38;5;241m=\u001B[39m \u001B[43mbuild_phrase\u001B[49m\u001B[43m(\u001B[49m\u001B[38;5;124;43m'\u001B[39;49m\u001B[38;5;124;43mлишь утратив всё\u001B[39;49m\u001B[38;5;124;43m'\u001B[39;49m\u001B[43m)\u001B[49m\n\u001B[0;32m      2\u001B[0m \u001B[38;5;28mprint\u001B[39m(res)\n",
      "Cell \u001B[1;32mIn[11], line 6\u001B[0m, in \u001B[0;36mbuild_phrase\u001B[1;34m(texts, str_len)\u001B[0m\n\u001B[0;32m      4\u001B[0m \u001B[38;5;28;01mfor\u001B[39;00m i \u001B[38;5;129;01min\u001B[39;00m \u001B[38;5;28mrange\u001B[39m(str_len):\n\u001B[0;32m      5\u001B[0m     x \u001B[38;5;241m=\u001B[39m to_categorical(data[i: i \u001B[38;5;241m+\u001B[39m inp_words], num_classes\u001B[38;5;241m=\u001B[39mmax_words_count)  \u001B[38;5;66;03m# преобразуем в One-Hot-encoding\u001B[39;00m\n\u001B[1;32m----> 6\u001B[0m     inp \u001B[38;5;241m=\u001B[39m \u001B[43mx\u001B[49m\u001B[38;5;241;43m.\u001B[39;49m\u001B[43mreshape\u001B[49m\u001B[43m(\u001B[49m\u001B[38;5;241;43m1\u001B[39;49m\u001B[43m,\u001B[49m\u001B[43m \u001B[49m\u001B[43minp_words\u001B[49m\u001B[43m,\u001B[49m\u001B[43m \u001B[49m\u001B[43mmax_words_count\u001B[49m\u001B[43m)\u001B[49m\n\u001B[0;32m      8\u001B[0m     pred \u001B[38;5;241m=\u001B[39m model\u001B[38;5;241m.\u001B[39mpredict(inp)\n\u001B[0;32m      9\u001B[0m     indx \u001B[38;5;241m=\u001B[39m pred\u001B[38;5;241m.\u001B[39margmax(axis\u001B[38;5;241m=\u001B[39m\u001B[38;5;241m1\u001B[39m)[\u001B[38;5;241m0\u001B[39m]\n",
      "\u001B[1;31mValueError\u001B[0m: cannot reshape array of size 1000 into shape (1,3,1000)"
     ]
    }
   ],
   "source": [
    "res = build_phrase('лишь утратив всё')\n",
    "print(res)"
   ],
   "metadata": {
    "collapsed": false,
    "ExecuteTime": {
     "end_time": "2024-02-16T13:49:06.056046300Z",
     "start_time": "2024-02-16T13:49:05.964550600Z"
    }
   },
   "id": "34e775a55c224900",
   "execution_count": 14
  }
 ],
 "metadata": {
  "kernelspec": {
   "display_name": "Python 3",
   "language": "python",
   "name": "python3"
  },
  "language_info": {
   "codemirror_mode": {
    "name": "ipython",
    "version": 2
   },
   "file_extension": ".py",
   "mimetype": "text/x-python",
   "name": "python",
   "nbconvert_exporter": "python",
   "pygments_lexer": "ipython2",
   "version": "2.7.6"
  }
 },
 "nbformat": 4,
 "nbformat_minor": 5
}
