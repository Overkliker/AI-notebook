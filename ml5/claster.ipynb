{
 "cells": [
  {
   "cell_type": "code",
   "execution_count": 5,
   "id": "initial_id",
   "metadata": {
    "collapsed": true,
    "jupyter": {
     "outputs_hidden": true
    },
    "ExecuteTime": {
     "end_time": "2024-05-11T07:03:05.153255300Z",
     "start_time": "2024-05-11T07:03:02.587945500Z"
    }
   },
   "outputs": [],
   "source": [
    "\n",
    "import pandas as pd\n",
    "from sklearn.model_selection import train_test_split\n",
    "from sklearn.metrics import silhouette_score, calinski_harabasz_score, davies_bouldin_score\n",
    "import seaborn as sns\n",
    "\n",
    "from sklearn.cluster import KMeans, DBSCAN, Birch\n"
   ]
  },
  {
   "cell_type": "code",
   "execution_count": 6,
   "id": "6fb9f6814ff9183d",
   "metadata": {
    "collapsed": false,
    "ExecuteTime": {
     "end_time": "2024-05-11T07:03:05.181225900Z",
     "start_time": "2024-05-11T07:03:05.119979800Z"
    }
   },
   "outputs": [
    {
     "data": {
      "text/plain": "               Category                                               Item  \\\n0             Breakfast                                       Egg McMuffin   \n1             Breakfast                                  Egg White Delight   \n2             Breakfast                                   Sausage McMuffin   \n3             Breakfast                          Sausage McMuffin with Egg   \n4             Breakfast                   Sausage McMuffin with Egg Whites   \n..                  ...                                                ...   \n255  Smoothies & Shakes                 McFlurry with Oreo Cookies (Small)   \n256  Smoothies & Shakes                McFlurry with Oreo Cookies (Medium)   \n257  Smoothies & Shakes                 McFlurry with Oreo Cookies (Snack)   \n258  Smoothies & Shakes  McFlurry with Reese's Peanut Butter Cups (Medium)   \n259  Smoothies & Shakes   McFlurry with Reese's Peanut Butter Cups (Snack)   \n\n        Serving Size  Calories  Trans Fat  Cholesterol  Carbohydrates  Sugars  \\\n0     4.8 oz (136 g)       300        0.0          260             31       3   \n1     4.8 oz (135 g)       250        0.0           25             30       3   \n2     3.9 oz (111 g)       370        0.0           45             29       2   \n3     5.7 oz (161 g)       450        0.0          285             30       2   \n4     5.7 oz (161 g)       400        0.0           50             30       2   \n..               ...       ...        ...          ...            ...     ...   \n255  10.1 oz (285 g)       510        0.5           45             80      64   \n256  13.4 oz (381 g)       690        1.0           55            106      85   \n257   6.7 oz (190 g)       340        0.0           30             53      43   \n258  14.2 oz (403 g)       810        1.0           60            114     103   \n259   7.1 oz (202 g)       410        0.0           30             57      51   \n\n     Protein  Vitamin C (% Daily Value)  Calcium (% Daily Value)  \\\n0         17                          0                       25   \n1         18                          0                       25   \n2         14                          0                       25   \n3         21                          0                       30   \n4         21                          0                       25   \n..       ...                        ...                      ...   \n255       12                          0                       40   \n256       15                          0                       50   \n257        8                          0                       25   \n258       21                          0                       60   \n259       10                          0                       30   \n\n     Iron (% Daily Value)  \n0                      15  \n1                       8  \n2                      10  \n3                      15  \n4                      10  \n..                    ...  \n255                     8  \n256                    10  \n257                     6  \n258                     6  \n259                     4  \n\n[260 rows x 12 columns]",
      "text/html": "<div>\n<style scoped>\n    .dataframe tbody tr th:only-of-type {\n        vertical-align: middle;\n    }\n\n    .dataframe tbody tr th {\n        vertical-align: top;\n    }\n\n    .dataframe thead th {\n        text-align: right;\n    }\n</style>\n<table border=\"1\" class=\"dataframe\">\n  <thead>\n    <tr style=\"text-align: right;\">\n      <th></th>\n      <th>Category</th>\n      <th>Item</th>\n      <th>Serving Size</th>\n      <th>Calories</th>\n      <th>Trans Fat</th>\n      <th>Cholesterol</th>\n      <th>Carbohydrates</th>\n      <th>Sugars</th>\n      <th>Protein</th>\n      <th>Vitamin C (% Daily Value)</th>\n      <th>Calcium (% Daily Value)</th>\n      <th>Iron (% Daily Value)</th>\n    </tr>\n  </thead>\n  <tbody>\n    <tr>\n      <th>0</th>\n      <td>Breakfast</td>\n      <td>Egg McMuffin</td>\n      <td>4.8 oz (136 g)</td>\n      <td>300</td>\n      <td>0.0</td>\n      <td>260</td>\n      <td>31</td>\n      <td>3</td>\n      <td>17</td>\n      <td>0</td>\n      <td>25</td>\n      <td>15</td>\n    </tr>\n    <tr>\n      <th>1</th>\n      <td>Breakfast</td>\n      <td>Egg White Delight</td>\n      <td>4.8 oz (135 g)</td>\n      <td>250</td>\n      <td>0.0</td>\n      <td>25</td>\n      <td>30</td>\n      <td>3</td>\n      <td>18</td>\n      <td>0</td>\n      <td>25</td>\n      <td>8</td>\n    </tr>\n    <tr>\n      <th>2</th>\n      <td>Breakfast</td>\n      <td>Sausage McMuffin</td>\n      <td>3.9 oz (111 g)</td>\n      <td>370</td>\n      <td>0.0</td>\n      <td>45</td>\n      <td>29</td>\n      <td>2</td>\n      <td>14</td>\n      <td>0</td>\n      <td>25</td>\n      <td>10</td>\n    </tr>\n    <tr>\n      <th>3</th>\n      <td>Breakfast</td>\n      <td>Sausage McMuffin with Egg</td>\n      <td>5.7 oz (161 g)</td>\n      <td>450</td>\n      <td>0.0</td>\n      <td>285</td>\n      <td>30</td>\n      <td>2</td>\n      <td>21</td>\n      <td>0</td>\n      <td>30</td>\n      <td>15</td>\n    </tr>\n    <tr>\n      <th>4</th>\n      <td>Breakfast</td>\n      <td>Sausage McMuffin with Egg Whites</td>\n      <td>5.7 oz (161 g)</td>\n      <td>400</td>\n      <td>0.0</td>\n      <td>50</td>\n      <td>30</td>\n      <td>2</td>\n      <td>21</td>\n      <td>0</td>\n      <td>25</td>\n      <td>10</td>\n    </tr>\n    <tr>\n      <th>...</th>\n      <td>...</td>\n      <td>...</td>\n      <td>...</td>\n      <td>...</td>\n      <td>...</td>\n      <td>...</td>\n      <td>...</td>\n      <td>...</td>\n      <td>...</td>\n      <td>...</td>\n      <td>...</td>\n      <td>...</td>\n    </tr>\n    <tr>\n      <th>255</th>\n      <td>Smoothies &amp; Shakes</td>\n      <td>McFlurry with Oreo Cookies (Small)</td>\n      <td>10.1 oz (285 g)</td>\n      <td>510</td>\n      <td>0.5</td>\n      <td>45</td>\n      <td>80</td>\n      <td>64</td>\n      <td>12</td>\n      <td>0</td>\n      <td>40</td>\n      <td>8</td>\n    </tr>\n    <tr>\n      <th>256</th>\n      <td>Smoothies &amp; Shakes</td>\n      <td>McFlurry with Oreo Cookies (Medium)</td>\n      <td>13.4 oz (381 g)</td>\n      <td>690</td>\n      <td>1.0</td>\n      <td>55</td>\n      <td>106</td>\n      <td>85</td>\n      <td>15</td>\n      <td>0</td>\n      <td>50</td>\n      <td>10</td>\n    </tr>\n    <tr>\n      <th>257</th>\n      <td>Smoothies &amp; Shakes</td>\n      <td>McFlurry with Oreo Cookies (Snack)</td>\n      <td>6.7 oz (190 g)</td>\n      <td>340</td>\n      <td>0.0</td>\n      <td>30</td>\n      <td>53</td>\n      <td>43</td>\n      <td>8</td>\n      <td>0</td>\n      <td>25</td>\n      <td>6</td>\n    </tr>\n    <tr>\n      <th>258</th>\n      <td>Smoothies &amp; Shakes</td>\n      <td>McFlurry with Reese's Peanut Butter Cups (Medium)</td>\n      <td>14.2 oz (403 g)</td>\n      <td>810</td>\n      <td>1.0</td>\n      <td>60</td>\n      <td>114</td>\n      <td>103</td>\n      <td>21</td>\n      <td>0</td>\n      <td>60</td>\n      <td>6</td>\n    </tr>\n    <tr>\n      <th>259</th>\n      <td>Smoothies &amp; Shakes</td>\n      <td>McFlurry with Reese's Peanut Butter Cups (Snack)</td>\n      <td>7.1 oz (202 g)</td>\n      <td>410</td>\n      <td>0.0</td>\n      <td>30</td>\n      <td>57</td>\n      <td>51</td>\n      <td>10</td>\n      <td>0</td>\n      <td>30</td>\n      <td>4</td>\n    </tr>\n  </tbody>\n</table>\n<p>260 rows × 12 columns</p>\n</div>"
     },
     "execution_count": 6,
     "metadata": {},
     "output_type": "execute_result"
    }
   ],
   "source": [
    "df = pd.read_csv('menu.csv')\n",
    "df"
   ]
  },
  {
   "cell_type": "markdown",
   "id": "e4e1f93e7593d7a1",
   "metadata": {
    "collapsed": false
   },
   "source": [
    "Датасет с кластеризацией еды в маке"
   ]
  },
  {
   "cell_type": "code",
   "execution_count": 7,
   "id": "4e2e35a12b70b0f8",
   "metadata": {
    "collapsed": false,
    "ExecuteTime": {
     "end_time": "2024-05-11T07:03:08.620529800Z",
     "start_time": "2024-05-11T07:03:08.575503300Z"
    }
   },
   "outputs": [
    {
     "data": {
      "text/plain": "     Calories  Trans Fat  Cholesterol  Sugars\n0         300        0.0          260       3\n1         250        0.0           25       3\n2         370        0.0           45       2\n3         450        0.0          285       2\n4         400        0.0           50       2\n..        ...        ...          ...     ...\n255       510        0.5           45      64\n256       690        1.0           55      85\n257       340        0.0           30      43\n258       810        1.0           60     103\n259       410        0.0           30      51\n\n[260 rows x 4 columns]",
      "text/html": "<div>\n<style scoped>\n    .dataframe tbody tr th:only-of-type {\n        vertical-align: middle;\n    }\n\n    .dataframe tbody tr th {\n        vertical-align: top;\n    }\n\n    .dataframe thead th {\n        text-align: right;\n    }\n</style>\n<table border=\"1\" class=\"dataframe\">\n  <thead>\n    <tr style=\"text-align: right;\">\n      <th></th>\n      <th>Calories</th>\n      <th>Trans Fat</th>\n      <th>Cholesterol</th>\n      <th>Sugars</th>\n    </tr>\n  </thead>\n  <tbody>\n    <tr>\n      <th>0</th>\n      <td>300</td>\n      <td>0.0</td>\n      <td>260</td>\n      <td>3</td>\n    </tr>\n    <tr>\n      <th>1</th>\n      <td>250</td>\n      <td>0.0</td>\n      <td>25</td>\n      <td>3</td>\n    </tr>\n    <tr>\n      <th>2</th>\n      <td>370</td>\n      <td>0.0</td>\n      <td>45</td>\n      <td>2</td>\n    </tr>\n    <tr>\n      <th>3</th>\n      <td>450</td>\n      <td>0.0</td>\n      <td>285</td>\n      <td>2</td>\n    </tr>\n    <tr>\n      <th>4</th>\n      <td>400</td>\n      <td>0.0</td>\n      <td>50</td>\n      <td>2</td>\n    </tr>\n    <tr>\n      <th>...</th>\n      <td>...</td>\n      <td>...</td>\n      <td>...</td>\n      <td>...</td>\n    </tr>\n    <tr>\n      <th>255</th>\n      <td>510</td>\n      <td>0.5</td>\n      <td>45</td>\n      <td>64</td>\n    </tr>\n    <tr>\n      <th>256</th>\n      <td>690</td>\n      <td>1.0</td>\n      <td>55</td>\n      <td>85</td>\n    </tr>\n    <tr>\n      <th>257</th>\n      <td>340</td>\n      <td>0.0</td>\n      <td>30</td>\n      <td>43</td>\n    </tr>\n    <tr>\n      <th>258</th>\n      <td>810</td>\n      <td>1.0</td>\n      <td>60</td>\n      <td>103</td>\n    </tr>\n    <tr>\n      <th>259</th>\n      <td>410</td>\n      <td>0.0</td>\n      <td>30</td>\n      <td>51</td>\n    </tr>\n  </tbody>\n</table>\n<p>260 rows × 4 columns</p>\n</div>"
     },
     "execution_count": 7,
     "metadata": {},
     "output_type": "execute_result"
    }
   ],
   "source": [
    "an_df = df[['Calories', 'Trans Fat', 'Cholesterol', 'Sugars']].iloc[:500]\n",
    "an_df"
   ]
  },
  {
   "cell_type": "markdown",
   "id": "572d3a04ecac6c9d",
   "metadata": {
    "collapsed": false
   },
   "source": [
    "Уменьшаю датасет только до вредности"
   ]
  },
  {
   "cell_type": "code",
   "execution_count": 28,
   "id": "8edd3952040ef724",
   "metadata": {
    "ExecuteTime": {
     "end_time": "2024-05-10T18:23:56.455277900Z",
     "start_time": "2024-05-10T18:23:56.428454200Z"
    },
    "collapsed": false
   },
   "outputs": [],
   "source": [
    "kmeans = KMeans(n_clusters=5)\n",
    "dbscan = DBSCAN()\n",
    "birch = Birch(n_clusters=5)"
   ]
  },
  {
   "cell_type": "code",
   "execution_count": 29,
   "id": "ad96b4fa2e90485a",
   "metadata": {
    "ExecuteTime": {
     "end_time": "2024-05-10T18:23:57.805709800Z",
     "start_time": "2024-05-10T18:23:57.577517700Z"
    },
    "collapsed": false
   },
   "outputs": [
    {
     "data": {
      "text/html": [
       "<style>#sk-container-id-3 {\n",
       "  /* Definition of color scheme common for light and dark mode */\n",
       "  --sklearn-color-text: black;\n",
       "  --sklearn-color-line: gray;\n",
       "  /* Definition of color scheme for unfitted estimators */\n",
       "  --sklearn-color-unfitted-level-0: #fff5e6;\n",
       "  --sklearn-color-unfitted-level-1: #f6e4d2;\n",
       "  --sklearn-color-unfitted-level-2: #ffe0b3;\n",
       "  --sklearn-color-unfitted-level-3: chocolate;\n",
       "  /* Definition of color scheme for fitted estimators */\n",
       "  --sklearn-color-fitted-level-0: #f0f8ff;\n",
       "  --sklearn-color-fitted-level-1: #d4ebff;\n",
       "  --sklearn-color-fitted-level-2: #b3dbfd;\n",
       "  --sklearn-color-fitted-level-3: cornflowerblue;\n",
       "\n",
       "  /* Specific color for light theme */\n",
       "  --sklearn-color-text-on-default-background: var(--sg-text-color, var(--theme-code-foreground, var(--jp-content-font-color1, black)));\n",
       "  --sklearn-color-background: var(--sg-background-color, var(--theme-background, var(--jp-layout-color0, white)));\n",
       "  --sklearn-color-border-box: var(--sg-text-color, var(--theme-code-foreground, var(--jp-content-font-color1, black)));\n",
       "  --sklearn-color-icon: #696969;\n",
       "\n",
       "  @media (prefers-color-scheme: dark) {\n",
       "    /* Redefinition of color scheme for dark theme */\n",
       "    --sklearn-color-text-on-default-background: var(--sg-text-color, var(--theme-code-foreground, var(--jp-content-font-color1, white)));\n",
       "    --sklearn-color-background: var(--sg-background-color, var(--theme-background, var(--jp-layout-color0, #111)));\n",
       "    --sklearn-color-border-box: var(--sg-text-color, var(--theme-code-foreground, var(--jp-content-font-color1, white)));\n",
       "    --sklearn-color-icon: #878787;\n",
       "  }\n",
       "}\n",
       "\n",
       "#sk-container-id-3 {\n",
       "  color: var(--sklearn-color-text);\n",
       "}\n",
       "\n",
       "#sk-container-id-3 pre {\n",
       "  padding: 0;\n",
       "}\n",
       "\n",
       "#sk-container-id-3 input.sk-hidden--visually {\n",
       "  border: 0;\n",
       "  clip: rect(1px 1px 1px 1px);\n",
       "  clip: rect(1px, 1px, 1px, 1px);\n",
       "  height: 1px;\n",
       "  margin: -1px;\n",
       "  overflow: hidden;\n",
       "  padding: 0;\n",
       "  position: absolute;\n",
       "  width: 1px;\n",
       "}\n",
       "\n",
       "#sk-container-id-3 div.sk-dashed-wrapped {\n",
       "  border: 1px dashed var(--sklearn-color-line);\n",
       "  margin: 0 0.4em 0.5em 0.4em;\n",
       "  box-sizing: border-box;\n",
       "  padding-bottom: 0.4em;\n",
       "  background-color: var(--sklearn-color-background);\n",
       "}\n",
       "\n",
       "#sk-container-id-3 div.sk-container {\n",
       "  /* jupyter's `normalize.less` sets `[hidden] { display: none; }`\n",
       "     but bootstrap.min.css set `[hidden] { display: none !important; }`\n",
       "     so we also need the `!important` here to be able to override the\n",
       "     default hidden behavior on the sphinx rendered scikit-learn.org.\n",
       "     See: https://github.com/scikit-learn/scikit-learn/issues/21755 */\n",
       "  display: inline-block !important;\n",
       "  position: relative;\n",
       "}\n",
       "\n",
       "#sk-container-id-3 div.sk-text-repr-fallback {\n",
       "  display: none;\n",
       "}\n",
       "\n",
       "div.sk-parallel-item,\n",
       "div.sk-serial,\n",
       "div.sk-item {\n",
       "  /* draw centered vertical line to link estimators */\n",
       "  background-image: linear-gradient(var(--sklearn-color-text-on-default-background), var(--sklearn-color-text-on-default-background));\n",
       "  background-size: 2px 100%;\n",
       "  background-repeat: no-repeat;\n",
       "  background-position: center center;\n",
       "}\n",
       "\n",
       "/* Parallel-specific style estimator block */\n",
       "\n",
       "#sk-container-id-3 div.sk-parallel-item::after {\n",
       "  content: \"\";\n",
       "  width: 100%;\n",
       "  border-bottom: 2px solid var(--sklearn-color-text-on-default-background);\n",
       "  flex-grow: 1;\n",
       "}\n",
       "\n",
       "#sk-container-id-3 div.sk-parallel {\n",
       "  display: flex;\n",
       "  align-items: stretch;\n",
       "  justify-content: center;\n",
       "  background-color: var(--sklearn-color-background);\n",
       "  position: relative;\n",
       "}\n",
       "\n",
       "#sk-container-id-3 div.sk-parallel-item {\n",
       "  display: flex;\n",
       "  flex-direction: column;\n",
       "}\n",
       "\n",
       "#sk-container-id-3 div.sk-parallel-item:first-child::after {\n",
       "  align-self: flex-end;\n",
       "  width: 50%;\n",
       "}\n",
       "\n",
       "#sk-container-id-3 div.sk-parallel-item:last-child::after {\n",
       "  align-self: flex-start;\n",
       "  width: 50%;\n",
       "}\n",
       "\n",
       "#sk-container-id-3 div.sk-parallel-item:only-child::after {\n",
       "  width: 0;\n",
       "}\n",
       "\n",
       "/* Serial-specific style estimator block */\n",
       "\n",
       "#sk-container-id-3 div.sk-serial {\n",
       "  display: flex;\n",
       "  flex-direction: column;\n",
       "  align-items: center;\n",
       "  background-color: var(--sklearn-color-background);\n",
       "  padding-right: 1em;\n",
       "  padding-left: 1em;\n",
       "}\n",
       "\n",
       "\n",
       "/* Toggleable style: style used for estimator/Pipeline/ColumnTransformer box that is\n",
       "clickable and can be expanded/collapsed.\n",
       "- Pipeline and ColumnTransformer use this feature and define the default style\n",
       "- Estimators will overwrite some part of the style using the `sk-estimator` class\n",
       "*/\n",
       "\n",
       "/* Pipeline and ColumnTransformer style (default) */\n",
       "\n",
       "#sk-container-id-3 div.sk-toggleable {\n",
       "  /* Default theme specific background. It is overwritten whether we have a\n",
       "  specific estimator or a Pipeline/ColumnTransformer */\n",
       "  background-color: var(--sklearn-color-background);\n",
       "}\n",
       "\n",
       "/* Toggleable label */\n",
       "#sk-container-id-3 label.sk-toggleable__label {\n",
       "  cursor: pointer;\n",
       "  display: block;\n",
       "  width: 100%;\n",
       "  margin-bottom: 0;\n",
       "  padding: 0.5em;\n",
       "  box-sizing: border-box;\n",
       "  text-align: center;\n",
       "}\n",
       "\n",
       "#sk-container-id-3 label.sk-toggleable__label-arrow:before {\n",
       "  /* Arrow on the left of the label */\n",
       "  content: \"▸\";\n",
       "  float: left;\n",
       "  margin-right: 0.25em;\n",
       "  color: var(--sklearn-color-icon);\n",
       "}\n",
       "\n",
       "#sk-container-id-3 label.sk-toggleable__label-arrow:hover:before {\n",
       "  color: var(--sklearn-color-text);\n",
       "}\n",
       "\n",
       "/* Toggleable content - dropdown */\n",
       "\n",
       "#sk-container-id-3 div.sk-toggleable__content {\n",
       "  max-height: 0;\n",
       "  max-width: 0;\n",
       "  overflow: hidden;\n",
       "  text-align: left;\n",
       "  /* unfitted */\n",
       "  background-color: var(--sklearn-color-unfitted-level-0);\n",
       "}\n",
       "\n",
       "#sk-container-id-3 div.sk-toggleable__content.fitted {\n",
       "  /* fitted */\n",
       "  background-color: var(--sklearn-color-fitted-level-0);\n",
       "}\n",
       "\n",
       "#sk-container-id-3 div.sk-toggleable__content pre {\n",
       "  margin: 0.2em;\n",
       "  border-radius: 0.25em;\n",
       "  color: var(--sklearn-color-text);\n",
       "  /* unfitted */\n",
       "  background-color: var(--sklearn-color-unfitted-level-0);\n",
       "}\n",
       "\n",
       "#sk-container-id-3 div.sk-toggleable__content.fitted pre {\n",
       "  /* unfitted */\n",
       "  background-color: var(--sklearn-color-fitted-level-0);\n",
       "}\n",
       "\n",
       "#sk-container-id-3 input.sk-toggleable__control:checked~div.sk-toggleable__content {\n",
       "  /* Expand drop-down */\n",
       "  max-height: 200px;\n",
       "  max-width: 100%;\n",
       "  overflow: auto;\n",
       "}\n",
       "\n",
       "#sk-container-id-3 input.sk-toggleable__control:checked~label.sk-toggleable__label-arrow:before {\n",
       "  content: \"▾\";\n",
       "}\n",
       "\n",
       "/* Pipeline/ColumnTransformer-specific style */\n",
       "\n",
       "#sk-container-id-3 div.sk-label input.sk-toggleable__control:checked~label.sk-toggleable__label {\n",
       "  color: var(--sklearn-color-text);\n",
       "  background-color: var(--sklearn-color-unfitted-level-2);\n",
       "}\n",
       "\n",
       "#sk-container-id-3 div.sk-label.fitted input.sk-toggleable__control:checked~label.sk-toggleable__label {\n",
       "  background-color: var(--sklearn-color-fitted-level-2);\n",
       "}\n",
       "\n",
       "/* Estimator-specific style */\n",
       "\n",
       "/* Colorize estimator box */\n",
       "#sk-container-id-3 div.sk-estimator input.sk-toggleable__control:checked~label.sk-toggleable__label {\n",
       "  /* unfitted */\n",
       "  background-color: var(--sklearn-color-unfitted-level-2);\n",
       "}\n",
       "\n",
       "#sk-container-id-3 div.sk-estimator.fitted input.sk-toggleable__control:checked~label.sk-toggleable__label {\n",
       "  /* fitted */\n",
       "  background-color: var(--sklearn-color-fitted-level-2);\n",
       "}\n",
       "\n",
       "#sk-container-id-3 div.sk-label label.sk-toggleable__label,\n",
       "#sk-container-id-3 div.sk-label label {\n",
       "  /* The background is the default theme color */\n",
       "  color: var(--sklearn-color-text-on-default-background);\n",
       "}\n",
       "\n",
       "/* On hover, darken the color of the background */\n",
       "#sk-container-id-3 div.sk-label:hover label.sk-toggleable__label {\n",
       "  color: var(--sklearn-color-text);\n",
       "  background-color: var(--sklearn-color-unfitted-level-2);\n",
       "}\n",
       "\n",
       "/* Label box, darken color on hover, fitted */\n",
       "#sk-container-id-3 div.sk-label.fitted:hover label.sk-toggleable__label.fitted {\n",
       "  color: var(--sklearn-color-text);\n",
       "  background-color: var(--sklearn-color-fitted-level-2);\n",
       "}\n",
       "\n",
       "/* Estimator label */\n",
       "\n",
       "#sk-container-id-3 div.sk-label label {\n",
       "  font-family: monospace;\n",
       "  font-weight: bold;\n",
       "  display: inline-block;\n",
       "  line-height: 1.2em;\n",
       "}\n",
       "\n",
       "#sk-container-id-3 div.sk-label-container {\n",
       "  text-align: center;\n",
       "}\n",
       "\n",
       "/* Estimator-specific */\n",
       "#sk-container-id-3 div.sk-estimator {\n",
       "  font-family: monospace;\n",
       "  border: 1px dotted var(--sklearn-color-border-box);\n",
       "  border-radius: 0.25em;\n",
       "  box-sizing: border-box;\n",
       "  margin-bottom: 0.5em;\n",
       "  /* unfitted */\n",
       "  background-color: var(--sklearn-color-unfitted-level-0);\n",
       "}\n",
       "\n",
       "#sk-container-id-3 div.sk-estimator.fitted {\n",
       "  /* fitted */\n",
       "  background-color: var(--sklearn-color-fitted-level-0);\n",
       "}\n",
       "\n",
       "/* on hover */\n",
       "#sk-container-id-3 div.sk-estimator:hover {\n",
       "  /* unfitted */\n",
       "  background-color: var(--sklearn-color-unfitted-level-2);\n",
       "}\n",
       "\n",
       "#sk-container-id-3 div.sk-estimator.fitted:hover {\n",
       "  /* fitted */\n",
       "  background-color: var(--sklearn-color-fitted-level-2);\n",
       "}\n",
       "\n",
       "/* Specification for estimator info (e.g. \"i\" and \"?\") */\n",
       "\n",
       "/* Common style for \"i\" and \"?\" */\n",
       "\n",
       ".sk-estimator-doc-link,\n",
       "a:link.sk-estimator-doc-link,\n",
       "a:visited.sk-estimator-doc-link {\n",
       "  float: right;\n",
       "  font-size: smaller;\n",
       "  line-height: 1em;\n",
       "  font-family: monospace;\n",
       "  background-color: var(--sklearn-color-background);\n",
       "  border-radius: 1em;\n",
       "  height: 1em;\n",
       "  width: 1em;\n",
       "  text-decoration: none !important;\n",
       "  margin-left: 1ex;\n",
       "  /* unfitted */\n",
       "  border: var(--sklearn-color-unfitted-level-1) 1pt solid;\n",
       "  color: var(--sklearn-color-unfitted-level-1);\n",
       "}\n",
       "\n",
       ".sk-estimator-doc-link.fitted,\n",
       "a:link.sk-estimator-doc-link.fitted,\n",
       "a:visited.sk-estimator-doc-link.fitted {\n",
       "  /* fitted */\n",
       "  border: var(--sklearn-color-fitted-level-1) 1pt solid;\n",
       "  color: var(--sklearn-color-fitted-level-1);\n",
       "}\n",
       "\n",
       "/* On hover */\n",
       "div.sk-estimator:hover .sk-estimator-doc-link:hover,\n",
       ".sk-estimator-doc-link:hover,\n",
       "div.sk-label-container:hover .sk-estimator-doc-link:hover,\n",
       ".sk-estimator-doc-link:hover {\n",
       "  /* unfitted */\n",
       "  background-color: var(--sklearn-color-unfitted-level-3);\n",
       "  color: var(--sklearn-color-background);\n",
       "  text-decoration: none;\n",
       "}\n",
       "\n",
       "div.sk-estimator.fitted:hover .sk-estimator-doc-link.fitted:hover,\n",
       ".sk-estimator-doc-link.fitted:hover,\n",
       "div.sk-label-container:hover .sk-estimator-doc-link.fitted:hover,\n",
       ".sk-estimator-doc-link.fitted:hover {\n",
       "  /* fitted */\n",
       "  background-color: var(--sklearn-color-fitted-level-3);\n",
       "  color: var(--sklearn-color-background);\n",
       "  text-decoration: none;\n",
       "}\n",
       "\n",
       "/* Span, style for the box shown on hovering the info icon */\n",
       ".sk-estimator-doc-link span {\n",
       "  display: none;\n",
       "  z-index: 9999;\n",
       "  position: relative;\n",
       "  font-weight: normal;\n",
       "  right: .2ex;\n",
       "  padding: .5ex;\n",
       "  margin: .5ex;\n",
       "  width: min-content;\n",
       "  min-width: 20ex;\n",
       "  max-width: 50ex;\n",
       "  color: var(--sklearn-color-text);\n",
       "  box-shadow: 2pt 2pt 4pt #999;\n",
       "  /* unfitted */\n",
       "  background: var(--sklearn-color-unfitted-level-0);\n",
       "  border: .5pt solid var(--sklearn-color-unfitted-level-3);\n",
       "}\n",
       "\n",
       ".sk-estimator-doc-link.fitted span {\n",
       "  /* fitted */\n",
       "  background: var(--sklearn-color-fitted-level-0);\n",
       "  border: var(--sklearn-color-fitted-level-3);\n",
       "}\n",
       "\n",
       ".sk-estimator-doc-link:hover span {\n",
       "  display: block;\n",
       "}\n",
       "\n",
       "/* \"?\"-specific style due to the `<a>` HTML tag */\n",
       "\n",
       "#sk-container-id-3 a.estimator_doc_link {\n",
       "  float: right;\n",
       "  font-size: 1rem;\n",
       "  line-height: 1em;\n",
       "  font-family: monospace;\n",
       "  background-color: var(--sklearn-color-background);\n",
       "  border-radius: 1rem;\n",
       "  height: 1rem;\n",
       "  width: 1rem;\n",
       "  text-decoration: none;\n",
       "  /* unfitted */\n",
       "  color: var(--sklearn-color-unfitted-level-1);\n",
       "  border: var(--sklearn-color-unfitted-level-1) 1pt solid;\n",
       "}\n",
       "\n",
       "#sk-container-id-3 a.estimator_doc_link.fitted {\n",
       "  /* fitted */\n",
       "  border: var(--sklearn-color-fitted-level-1) 1pt solid;\n",
       "  color: var(--sklearn-color-fitted-level-1);\n",
       "}\n",
       "\n",
       "/* On hover */\n",
       "#sk-container-id-3 a.estimator_doc_link:hover {\n",
       "  /* unfitted */\n",
       "  background-color: var(--sklearn-color-unfitted-level-3);\n",
       "  color: var(--sklearn-color-background);\n",
       "  text-decoration: none;\n",
       "}\n",
       "\n",
       "#sk-container-id-3 a.estimator_doc_link.fitted:hover {\n",
       "  /* fitted */\n",
       "  background-color: var(--sklearn-color-fitted-level-3);\n",
       "}\n",
       "</style><div id=\"sk-container-id-3\" class=\"sk-top-container\"><div class=\"sk-text-repr-fallback\"><pre>Birch(n_clusters=5)</pre><b>In a Jupyter environment, please rerun this cell to show the HTML representation or trust the notebook. <br />On GitHub, the HTML representation is unable to render, please try loading this page with nbviewer.org.</b></div><div class=\"sk-container\" hidden><div class=\"sk-item\"><div class=\"sk-estimator fitted sk-toggleable\"><input class=\"sk-toggleable__control sk-hidden--visually\" id=\"sk-estimator-id-3\" type=\"checkbox\" checked><label for=\"sk-estimator-id-3\" class=\"sk-toggleable__label fitted sk-toggleable__label-arrow fitted\">&nbsp;&nbsp;Birch<a class=\"sk-estimator-doc-link fitted\" rel=\"noreferrer\" target=\"_blank\" href=\"https://scikit-learn.org/1.4/modules/generated/sklearn.cluster.Birch.html\">?<span>Documentation for Birch</span></a><span class=\"sk-estimator-doc-link fitted\">i<span>Fitted</span></span></label><div class=\"sk-toggleable__content fitted\"><pre>Birch(n_clusters=5)</pre></div> </div></div></div></div>"
      ],
      "text/plain": [
       "Birch(n_clusters=5)"
      ]
     },
     "execution_count": 29,
     "metadata": {},
     "output_type": "execute_result"
    }
   ],
   "source": [
    "kmeans.fit(an_df)\n",
    "birch.fit(an_df)"
   ]
  },
  {
   "cell_type": "markdown",
   "id": "c6c1cc99956cafc3",
   "metadata": {
    "collapsed": false
   },
   "source": [
    "Создаю и обучаю модельки"
   ]
  },
  {
   "cell_type": "code",
   "execution_count": 31,
   "id": "6974ab4f115aaf3d",
   "metadata": {
    "ExecuteTime": {
     "end_time": "2024-05-10T18:24:09.287666400Z",
     "start_time": "2024-05-10T18:24:09.235228800Z"
    },
    "collapsed": false
   },
   "outputs": [],
   "source": [
    "mini_df_clusters = an_df.copy(deep=True)"
   ]
  },
  {
   "cell_type": "code",
   "execution_count": 76,
   "id": "e5e1e937d6d5672e",
   "metadata": {
    "ExecuteTime": {
     "end_time": "2024-05-10T19:25:48.855604800Z",
     "start_time": "2024-05-10T19:25:48.625079300Z"
    },
    "collapsed": false
   },
   "outputs": [
    {
     "data": {
      "text/html": [
       "<div>\n",
       "<style scoped>\n",
       "    .dataframe tbody tr th:only-of-type {\n",
       "        vertical-align: middle;\n",
       "    }\n",
       "\n",
       "    .dataframe tbody tr th {\n",
       "        vertical-align: top;\n",
       "    }\n",
       "\n",
       "    .dataframe thead th {\n",
       "        text-align: right;\n",
       "    }\n",
       "</style>\n",
       "<table border=\"1\" class=\"dataframe\">\n",
       "  <thead>\n",
       "    <tr style=\"text-align: right;\">\n",
       "      <th></th>\n",
       "      <th>Calories</th>\n",
       "      <th>Trans Fat</th>\n",
       "      <th>Cholesterol</th>\n",
       "      <th>Sugars</th>\n",
       "      <th>kmeans</th>\n",
       "      <th>dbscan</th>\n",
       "      <th>birch</th>\n",
       "    </tr>\n",
       "  </thead>\n",
       "  <tbody>\n",
       "    <tr>\n",
       "      <th>0</th>\n",
       "      <td>300</td>\n",
       "      <td>0.0</td>\n",
       "      <td>260</td>\n",
       "      <td>3</td>\n",
       "      <td>4</td>\n",
       "      <td>-1</td>\n",
       "      <td>2</td>\n",
       "    </tr>\n",
       "    <tr>\n",
       "      <th>1</th>\n",
       "      <td>250</td>\n",
       "      <td>0.0</td>\n",
       "      <td>25</td>\n",
       "      <td>3</td>\n",
       "      <td>4</td>\n",
       "      <td>-1</td>\n",
       "      <td>4</td>\n",
       "    </tr>\n",
       "    <tr>\n",
       "      <th>2</th>\n",
       "      <td>370</td>\n",
       "      <td>0.0</td>\n",
       "      <td>45</td>\n",
       "      <td>2</td>\n",
       "      <td>4</td>\n",
       "      <td>-1</td>\n",
       "      <td>4</td>\n",
       "    </tr>\n",
       "    <tr>\n",
       "      <th>3</th>\n",
       "      <td>450</td>\n",
       "      <td>0.0</td>\n",
       "      <td>285</td>\n",
       "      <td>2</td>\n",
       "      <td>2</td>\n",
       "      <td>-1</td>\n",
       "      <td>2</td>\n",
       "    </tr>\n",
       "    <tr>\n",
       "      <th>4</th>\n",
       "      <td>400</td>\n",
       "      <td>0.0</td>\n",
       "      <td>50</td>\n",
       "      <td>2</td>\n",
       "      <td>2</td>\n",
       "      <td>-1</td>\n",
       "      <td>4</td>\n",
       "    </tr>\n",
       "    <tr>\n",
       "      <th>...</th>\n",
       "      <td>...</td>\n",
       "      <td>...</td>\n",
       "      <td>...</td>\n",
       "      <td>...</td>\n",
       "      <td>...</td>\n",
       "      <td>...</td>\n",
       "      <td>...</td>\n",
       "    </tr>\n",
       "    <tr>\n",
       "      <th>255</th>\n",
       "      <td>510</td>\n",
       "      <td>0.5</td>\n",
       "      <td>45</td>\n",
       "      <td>64</td>\n",
       "      <td>2</td>\n",
       "      <td>-1</td>\n",
       "      <td>2</td>\n",
       "    </tr>\n",
       "    <tr>\n",
       "      <th>256</th>\n",
       "      <td>690</td>\n",
       "      <td>1.0</td>\n",
       "      <td>55</td>\n",
       "      <td>85</td>\n",
       "      <td>1</td>\n",
       "      <td>-1</td>\n",
       "      <td>1</td>\n",
       "    </tr>\n",
       "    <tr>\n",
       "      <th>257</th>\n",
       "      <td>340</td>\n",
       "      <td>0.0</td>\n",
       "      <td>30</td>\n",
       "      <td>43</td>\n",
       "      <td>4</td>\n",
       "      <td>-1</td>\n",
       "      <td>4</td>\n",
       "    </tr>\n",
       "    <tr>\n",
       "      <th>258</th>\n",
       "      <td>810</td>\n",
       "      <td>1.0</td>\n",
       "      <td>60</td>\n",
       "      <td>103</td>\n",
       "      <td>1</td>\n",
       "      <td>-1</td>\n",
       "      <td>1</td>\n",
       "    </tr>\n",
       "    <tr>\n",
       "      <th>259</th>\n",
       "      <td>410</td>\n",
       "      <td>0.0</td>\n",
       "      <td>30</td>\n",
       "      <td>51</td>\n",
       "      <td>2</td>\n",
       "      <td>-1</td>\n",
       "      <td>4</td>\n",
       "    </tr>\n",
       "  </tbody>\n",
       "</table>\n",
       "<p>260 rows × 7 columns</p>\n",
       "</div>"
      ],
      "text/plain": [
       "     Calories  Trans Fat  Cholesterol  Sugars  kmeans  dbscan  birch\n",
       "0         300        0.0          260       3       4      -1      2\n",
       "1         250        0.0           25       3       4      -1      4\n",
       "2         370        0.0           45       2       4      -1      4\n",
       "3         450        0.0          285       2       2      -1      2\n",
       "4         400        0.0           50       2       2      -1      4\n",
       "..        ...        ...          ...     ...     ...     ...    ...\n",
       "255       510        0.5           45      64       2      -1      2\n",
       "256       690        1.0           55      85       1      -1      1\n",
       "257       340        0.0           30      43       4      -1      4\n",
       "258       810        1.0           60     103       1      -1      1\n",
       "259       410        0.0           30      51       2      -1      4\n",
       "\n",
       "[260 rows x 7 columns]"
      ]
     },
     "execution_count": 76,
     "metadata": {},
     "output_type": "execute_result"
    }
   ],
   "source": [
    "mini_df_clusters['kmeans'] = kmeans.fit(an_df).labels_\n",
    "mini_df_clusters['birch'] = birch.fit(an_df).labels_\n",
    "mini_df_clusters"
   ]
  },
  {
   "cell_type": "markdown",
   "id": "466d2df62a245b5d",
   "metadata": {
    "collapsed": false
   },
   "source": [
    "К скопированному датасету добавляю колонки с результатами кластеризации"
   ]
  },
  {
   "cell_type": "code",
   "execution_count": 49,
   "id": "e4bf90a048df5f8e",
   "metadata": {
    "ExecuteTime": {
     "end_time": "2024-05-10T18:38:33.781103400Z",
     "start_time": "2024-05-10T18:38:29.981643200Z"
    },
    "collapsed": false
   },
   "outputs": [
    {
     "data": {
      "text/plain": [
       "<seaborn.axisgrid.PairGrid at 0x18e59eca920>"
      ]
     },
     "execution_count": 49,
     "metadata": {},
     "output_type": "execute_result"
    },
    {
     "data": {
      "image/png": "[encoded data removed]",
      "text/plain": [
       "<Figure size 558.875x500 with 6 Axes>"
      ]
     },
     "metadata": {},
     "output_type": "display_data"
    }
   ],
   "source": [
    "g = sns.PairGrid(mini_df_clusters[['Calories', 'Cholesterol', 'birch']], hue=\"birch\")\n",
    "g.map_upper(sns.scatterplot)\n",
    "g.map_lower(sns.kdeplot)\n",
    "g.map_diag(sns.histplot)\n",
    "\n",
    "g.add_legend()\n",
    "g"
   ]
  },
  {
   "cell_type": "markdown",
   "id": "422187ecb7d0d2bd",
   "metadata": {
    "collapsed": false
   },
   "source": [
    "Графический резульата кластеризации, где видно, что калории и халестерин в мак мафинах связаны, необъяснимо но факт, не ешьте мак мафины, мало ли что"
   ]
  },
  {
   "cell_type": "code",
   "execution_count": 56,
   "id": "38420cf18d43087b",
   "metadata": {
    "ExecuteTime": {
     "end_time": "2024-05-10T19:01:41.717076500Z",
     "start_time": "2024-05-10T19:01:41.603656200Z"
    },
    "collapsed": false
   },
   "outputs": [
    {
     "data": {
      "text/plain": [
       "0.46018293275097266"
      ]
     },
     "execution_count": 56,
     "metadata": {},
     "output_type": "execute_result"
    }
   ],
   "source": [
    "silhouette_score(mini_df_clusters[['Calories', 'Cholesterol']], mini_df_clusters['kmeans'])"
   ]
  },
  {
   "cell_type": "markdown",
   "id": "e96311dc17481cc5",
   "metadata": {
    "collapsed": false
   },
   "source": [
    "Средние растояне между кластерами довольно не велико для первой модели"
   ]
  },
  {
   "cell_type": "code",
   "execution_count": 57,
   "id": "f3c9eba20425da91",
   "metadata": {
    "ExecuteTime": {
     "end_time": "2024-05-10T19:01:49.414268600Z",
     "start_time": "2024-05-10T19:01:49.338348100Z"
    },
    "collapsed": false
   },
   "outputs": [
    {
     "data": {
      "text/plain": [
       "326.89332072081186"
      ]
     },
     "execution_count": 57,
     "metadata": {},
     "output_type": "execute_result"
    }
   ],
   "source": [
    "calinski_harabasz_score(mini_df_clusters[['Calories', 'Cholesterol']], mini_df_clusters['kmeans'])"
   ]
  },
  {
   "cell_type": "markdown",
   "id": "a7b347a519f6582a",
   "metadata": {
    "collapsed": false
   },
   "source": [
    "Сумма межкластерной дисперсии +- велика"
   ]
  },
  {
   "cell_type": "code",
   "execution_count": 58,
   "id": "27d2abfe0b79ceb6",
   "metadata": {
    "ExecuteTime": {
     "end_time": "2024-05-10T19:01:55.039940300Z",
     "start_time": "2024-05-10T19:01:54.984692700Z"
    },
    "collapsed": false
   },
   "outputs": [
    {
     "data": {
      "text/plain": [
       "0.6313664303729041"
      ]
     },
     "execution_count": 58,
     "metadata": {},
     "output_type": "execute_result"
    }
   ],
   "source": [
    "davies_bouldin_score(mini_df_clusters[['Calories', 'Cholesterol',]], mini_df_clusters['kmeans'])"
   ]
  },
  {
   "cell_type": "markdown",
   "id": "f2712fa8a7380c92",
   "metadata": {
    "collapsed": false
   },
   "source": [
    "Ну и мера сходства +- 63 процента, что не сильно лучше, чем ткнуть пальцем) (а то и пальцем лучше ткнуть)"
   ]
  },
  {
   "cell_type": "code",
   "execution_count": 59,
   "id": "484e13f675b3c39d",
   "metadata": {
    "ExecuteTime": {
     "end_time": "2024-05-10T19:02:33.106119200Z",
     "start_time": "2024-05-10T19:02:33.061888200Z"
    },
    "collapsed": false
   },
   "outputs": [
    {
     "data": {
      "text/plain": [
       "0.4472906216678817"
      ]
     },
     "execution_count": 59,
     "metadata": {},
     "output_type": "execute_result"
    }
   ],
   "source": [
    "silhouette_score(mini_df_clusters[['Calories', 'Cholesterol']], mini_df_clusters['birch'])"
   ]
  },
  {
   "cell_type": "code",
   "execution_count": 61,
   "id": "57ed58943be72be1",
   "metadata": {
    "ExecuteTime": {
     "end_time": "2024-05-10T19:03:01.313944300Z",
     "start_time": "2024-05-10T19:03:01.253696500Z"
    },
    "collapsed": false
   },
   "outputs": [
    {
     "data": {
      "text/plain": [
       "317.4892902291992"
      ]
     },
     "execution_count": 61,
     "metadata": {},
     "output_type": "execute_result"
    }
   ],
   "source": [
    "calinski_harabasz_score(mini_df_clusters[['Calories', 'Cholesterol']], mini_df_clusters['birch'])"
   ]
  },
  {
   "cell_type": "code",
   "execution_count": 60,
   "id": "ca7ec7a03a2be80e",
   "metadata": {
    "ExecuteTime": {
     "end_time": "2024-05-10T19:02:59.895576900Z",
     "start_time": "2024-05-10T19:02:59.835705600Z"
    },
    "collapsed": false
   },
   "outputs": [
    {
     "data": {
      "text/plain": [
       "0.7594210832185337"
      ]
     },
     "execution_count": 60,
     "metadata": {},
     "output_type": "execute_result"
    }
   ],
   "source": [
    "davies_bouldin_score(mini_df_clusters[['Calories', 'Cholesterol',]], mini_df_clusters['birch'])"
   ]
  },
  {
   "cell_type": "markdown",
   "id": "c3f5be3240dd5940",
   "metadata": {
    "collapsed": false
   },
   "source": [
    "Две метрики до этой практически повторяли результаты прошлой модели, однако здесь результат значительно ещё хуже нежели в прошлой модели)"
   ]
  },
  {
   "cell_type": "code",
   "execution_count": 8,
   "id": "a2bb3026592c6e4a",
   "metadata": {
    "collapsed": false,
    "ExecuteTime": {
     "end_time": "2024-05-11T07:03:20.471889200Z",
     "start_time": "2024-05-11T07:03:20.439650900Z"
    }
   },
   "outputs": [],
   "source": [
    "from sklearn.decomposition import PCA\n",
    "\n",
    "pca = PCA(n_components=None)\n",
    "pca_2 = PCA(n_components=2)"
   ]
  },
  {
   "cell_type": "code",
   "execution_count": 9,
   "id": "8330026f9bd1dfa7",
   "metadata": {
    "collapsed": false,
    "ExecuteTime": {
     "end_time": "2024-05-11T07:03:21.853626700Z",
     "start_time": "2024-05-11T07:03:21.805814900Z"
    }
   },
   "outputs": [],
   "source": [
    "df_pca = pd.DataFrame(pca.fit_transform(an_df))\n",
    "df_pca_2 = pd.DataFrame(pca_2.fit_transform(an_df))"
   ]
  },
  {
   "cell_type": "code",
   "execution_count": 10,
   "id": "caacad3edc422852",
   "metadata": {
    "collapsed": false,
    "ExecuteTime": {
     "end_time": "2024-05-11T07:03:23.085253900Z",
     "start_time": "2024-05-11T07:03:23.049489700Z"
    }
   },
   "outputs": [
    {
     "data": {
      "text/plain": "              0           1          2         3\n0    -20.214710  216.374613 -13.451878 -0.070080\n1   -122.669947    2.136961  23.019347 -0.019766\n2     -1.353690   -4.957494  28.766109 -0.116256\n3    131.437552  207.461383  -6.514214 -0.191500\n4     28.982314   -6.776269  29.957011 -0.141186\n..          ...         ...        ...       ...\n255  136.593896  -47.011480 -22.674551  0.067916\n256  314.614396  -80.888862 -32.783686  0.351230\n257  -32.840931  -20.130620 -11.037389 -0.223452\n258  433.023895 -105.793693 -43.171905  0.193912\n259   35.494101  -37.002561 -14.144467 -0.307028\n\n[260 rows x 4 columns]",
      "text/html": "<div>\n<style scoped>\n    .dataframe tbody tr th:only-of-type {\n        vertical-align: middle;\n    }\n\n    .dataframe tbody tr th {\n        vertical-align: top;\n    }\n\n    .dataframe thead th {\n        text-align: right;\n    }\n</style>\n<table border=\"1\" class=\"dataframe\">\n  <thead>\n    <tr style=\"text-align: right;\">\n      <th></th>\n      <th>0</th>\n      <th>1</th>\n      <th>2</th>\n      <th>3</th>\n    </tr>\n  </thead>\n  <tbody>\n    <tr>\n      <th>0</th>\n      <td>-20.214710</td>\n      <td>216.374613</td>\n      <td>-13.451878</td>\n      <td>-0.070080</td>\n    </tr>\n    <tr>\n      <th>1</th>\n      <td>-122.669947</td>\n      <td>2.136961</td>\n      <td>23.019347</td>\n      <td>-0.019766</td>\n    </tr>\n    <tr>\n      <th>2</th>\n      <td>-1.353690</td>\n      <td>-4.957494</td>\n      <td>28.766109</td>\n      <td>-0.116256</td>\n    </tr>\n    <tr>\n      <th>3</th>\n      <td>131.437552</td>\n      <td>207.461383</td>\n      <td>-6.514214</td>\n      <td>-0.191500</td>\n    </tr>\n    <tr>\n      <th>4</th>\n      <td>28.982314</td>\n      <td>-6.776269</td>\n      <td>29.957011</td>\n      <td>-0.141186</td>\n    </tr>\n    <tr>\n      <th>...</th>\n      <td>...</td>\n      <td>...</td>\n      <td>...</td>\n      <td>...</td>\n    </tr>\n    <tr>\n      <th>255</th>\n      <td>136.593896</td>\n      <td>-47.011480</td>\n      <td>-22.674551</td>\n      <td>0.067916</td>\n    </tr>\n    <tr>\n      <th>256</th>\n      <td>314.614396</td>\n      <td>-80.888862</td>\n      <td>-32.783686</td>\n      <td>0.351230</td>\n    </tr>\n    <tr>\n      <th>257</th>\n      <td>-32.840931</td>\n      <td>-20.130620</td>\n      <td>-11.037389</td>\n      <td>-0.223452</td>\n    </tr>\n    <tr>\n      <th>258</th>\n      <td>433.023895</td>\n      <td>-105.793693</td>\n      <td>-43.171905</td>\n      <td>0.193912</td>\n    </tr>\n    <tr>\n      <th>259</th>\n      <td>35.494101</td>\n      <td>-37.002561</td>\n      <td>-14.144467</td>\n      <td>-0.307028</td>\n    </tr>\n  </tbody>\n</table>\n<p>260 rows × 4 columns</p>\n</div>"
     },
     "execution_count": 10,
     "metadata": {},
     "output_type": "execute_result"
    }
   ],
   "source": [
    "df_pca"
   ]
  },
  {
   "cell_type": "code",
   "execution_count": 62,
   "id": "c0225e7246725e62",
   "metadata": {
    "ExecuteTime": {
     "end_time": "2024-05-10T19:04:30.193939900Z",
     "start_time": "2024-05-10T19:04:30.108294300Z"
    },
    "collapsed": false
   },
   "outputs": [
    {
     "data": {
      "text/html": [
       "<div>\n",
       "<style scoped>\n",
       "    .dataframe tbody tr th:only-of-type {\n",
       "        vertical-align: middle;\n",
       "    }\n",
       "\n",
       "    .dataframe tbody tr th {\n",
       "        vertical-align: top;\n",
       "    }\n",
       "\n",
       "    .dataframe thead th {\n",
       "        text-align: right;\n",
       "    }\n",
       "</style>\n",
       "<table border=\"1\" class=\"dataframe\">\n",
       "  <thead>\n",
       "    <tr style=\"text-align: right;\">\n",
       "      <th></th>\n",
       "      <th>0</th>\n",
       "      <th>1</th>\n",
       "    </tr>\n",
       "  </thead>\n",
       "  <tbody>\n",
       "    <tr>\n",
       "      <th>0</th>\n",
       "      <td>-20.214710</td>\n",
       "      <td>216.374613</td>\n",
       "    </tr>\n",
       "    <tr>\n",
       "      <th>1</th>\n",
       "      <td>-122.669947</td>\n",
       "      <td>2.136961</td>\n",
       "    </tr>\n",
       "    <tr>\n",
       "      <th>2</th>\n",
       "      <td>-1.353690</td>\n",
       "      <td>-4.957494</td>\n",
       "    </tr>\n",
       "    <tr>\n",
       "      <th>3</th>\n",
       "      <td>131.437552</td>\n",
       "      <td>207.461383</td>\n",
       "    </tr>\n",
       "    <tr>\n",
       "      <th>4</th>\n",
       "      <td>28.982314</td>\n",
       "      <td>-6.776269</td>\n",
       "    </tr>\n",
       "    <tr>\n",
       "      <th>...</th>\n",
       "      <td>...</td>\n",
       "      <td>...</td>\n",
       "    </tr>\n",
       "    <tr>\n",
       "      <th>255</th>\n",
       "      <td>136.593896</td>\n",
       "      <td>-47.011480</td>\n",
       "    </tr>\n",
       "    <tr>\n",
       "      <th>256</th>\n",
       "      <td>314.614396</td>\n",
       "      <td>-80.888862</td>\n",
       "    </tr>\n",
       "    <tr>\n",
       "      <th>257</th>\n",
       "      <td>-32.840931</td>\n",
       "      <td>-20.130620</td>\n",
       "    </tr>\n",
       "    <tr>\n",
       "      <th>258</th>\n",
       "      <td>433.023895</td>\n",
       "      <td>-105.793693</td>\n",
       "    </tr>\n",
       "    <tr>\n",
       "      <th>259</th>\n",
       "      <td>35.494101</td>\n",
       "      <td>-37.002561</td>\n",
       "    </tr>\n",
       "  </tbody>\n",
       "</table>\n",
       "<p>260 rows × 2 columns</p>\n",
       "</div>"
      ],
      "text/plain": [
       "              0           1\n",
       "0    -20.214710  216.374613\n",
       "1   -122.669947    2.136961\n",
       "2     -1.353690   -4.957494\n",
       "3    131.437552  207.461383\n",
       "4     28.982314   -6.776269\n",
       "..          ...         ...\n",
       "255  136.593896  -47.011480\n",
       "256  314.614396  -80.888862\n",
       "257  -32.840931  -20.130620\n",
       "258  433.023895 -105.793693\n",
       "259   35.494101  -37.002561\n",
       "\n",
       "[260 rows x 2 columns]"
      ]
     },
     "execution_count": 62,
     "metadata": {},
     "output_type": "execute_result"
    }
   ],
   "source": [
    "df_pca_2"
   ]
  },
  {
   "cell_type": "markdown",
   "id": "ee968287d5e22f73",
   "metadata": {
    "collapsed": false
   },
   "source": [
    "Значимо понижаю размерность своего датасета, что бы помочь кластерным моделям с распределением. Но посмотрим, поможет ли"
   ]
  },
  {
   "cell_type": "code",
   "execution_count": 11,
   "id": "19496a2318f67efe",
   "metadata": {
    "collapsed": false,
    "ExecuteTime": {
     "end_time": "2024-05-11T07:03:30.232680700Z",
     "start_time": "2024-05-11T07:03:30.129877Z"
    }
   },
   "outputs": [],
   "source": [
    "kmeans = KMeans(n_clusters=5)\n",
    "birch = Birch(n_clusters=5)"
   ]
  },
  {
   "cell_type": "code",
   "execution_count": 12,
   "id": "62d2eb0587e00e",
   "metadata": {
    "collapsed": false,
    "ExecuteTime": {
     "end_time": "2024-05-11T07:03:34.977457800Z",
     "start_time": "2024-05-11T07:03:33.518777600Z"
    }
   },
   "outputs": [
    {
     "data": {
      "text/plain": "Birch(n_clusters=5)",
      "text/html": "<style>#sk-container-id-1 {\n  /* Definition of color scheme common for light and dark mode */\n  --sklearn-color-text: black;\n  --sklearn-color-line: gray;\n  /* Definition of color scheme for unfitted estimators */\n  --sklearn-color-unfitted-level-0: #fff5e6;\n  --sklearn-color-unfitted-level-1: #f6e4d2;\n  --sklearn-color-unfitted-level-2: #ffe0b3;\n  --sklearn-color-unfitted-level-3: chocolate;\n  /* Definition of color scheme for fitted estimators */\n  --sklearn-color-fitted-level-0: #f0f8ff;\n  --sklearn-color-fitted-level-1: #d4ebff;\n  --sklearn-color-fitted-level-2: #b3dbfd;\n  --sklearn-color-fitted-level-3: cornflowerblue;\n\n  /* Specific color for light theme */\n  --sklearn-color-text-on-default-background: var(--sg-text-color, var(--theme-code-foreground, var(--jp-content-font-color1, black)));\n  --sklearn-color-background: var(--sg-background-color, var(--theme-background, var(--jp-layout-color0, white)));\n  --sklearn-color-border-box: var(--sg-text-color, var(--theme-code-foreground, var(--jp-content-font-color1, black)));\n  --sklearn-color-icon: #696969;\n\n  @media (prefers-color-scheme: dark) {\n    /* Redefinition of color scheme for dark theme */\n    --sklearn-color-text-on-default-background: var(--sg-text-color, var(--theme-code-foreground, var(--jp-content-font-color1, white)));\n    --sklearn-color-background: var(--sg-background-color, var(--theme-background, var(--jp-layout-color0, #111)));\n    --sklearn-color-border-box: var(--sg-text-color, var(--theme-code-foreground, var(--jp-content-font-color1, white)));\n    --sklearn-color-icon: #878787;\n  }\n}\n\n#sk-container-id-1 {\n  color: var(--sklearn-color-text);\n}\n\n#sk-container-id-1 pre {\n  padding: 0;\n}\n\n#sk-container-id-1 input.sk-hidden--visually {\n  border: 0;\n  clip: rect(1px 1px 1px 1px);\n  clip: rect(1px, 1px, 1px, 1px);\n  height: 1px;\n  margin: -1px;\n  overflow: hidden;\n  padding: 0;\n  position: absolute;\n  width: 1px;\n}\n\n#sk-container-id-1 div.sk-dashed-wrapped {\n  border: 1px dashed var(--sklearn-color-line);\n  margin: 0 0.4em 0.5em 0.4em;\n  box-sizing: border-box;\n  padding-bottom: 0.4em;\n  background-color: var(--sklearn-color-background);\n}\n\n#sk-container-id-1 div.sk-container {\n  /* jupyter's `normalize.less` sets `[hidden] { display: none; }`\n     but bootstrap.min.css set `[hidden] { display: none !important; }`\n     so we also need the `!important` here to be able to override the\n     default hidden behavior on the sphinx rendered scikit-learn.org.\n     See: https://github.com/scikit-learn/scikit-learn/issues/21755 */\n  display: inline-block !important;\n  position: relative;\n}\n\n#sk-container-id-1 div.sk-text-repr-fallback {\n  display: none;\n}\n\ndiv.sk-parallel-item,\ndiv.sk-serial,\ndiv.sk-item {\n  /* draw centered vertical line to link estimators */\n  background-image: linear-gradient(var(--sklearn-color-text-on-default-background), var(--sklearn-color-text-on-default-background));\n  background-size: 2px 100%;\n  background-repeat: no-repeat;\n  background-position: center center;\n}\n\n/* Parallel-specific style estimator block */\n\n#sk-container-id-1 div.sk-parallel-item::after {\n  content: \"\";\n  width: 100%;\n  border-bottom: 2px solid var(--sklearn-color-text-on-default-background);\n  flex-grow: 1;\n}\n\n#sk-container-id-1 div.sk-parallel {\n  display: flex;\n  align-items: stretch;\n  justify-content: center;\n  background-color: var(--sklearn-color-background);\n  position: relative;\n}\n\n#sk-container-id-1 div.sk-parallel-item {\n  display: flex;\n  flex-direction: column;\n}\n\n#sk-container-id-1 div.sk-parallel-item:first-child::after {\n  align-self: flex-end;\n  width: 50%;\n}\n\n#sk-container-id-1 div.sk-parallel-item:last-child::after {\n  align-self: flex-start;\n  width: 50%;\n}\n\n#sk-container-id-1 div.sk-parallel-item:only-child::after {\n  width: 0;\n}\n\n/* Serial-specific style estimator block */\n\n#sk-container-id-1 div.sk-serial {\n  display: flex;\n  flex-direction: column;\n  align-items: center;\n  background-color: var(--sklearn-color-background);\n  padding-right: 1em;\n  padding-left: 1em;\n}\n\n\n/* Toggleable style: style used for estimator/Pipeline/ColumnTransformer box that is\nclickable and can be expanded/collapsed.\n- Pipeline and ColumnTransformer use this feature and define the default style\n- Estimators will overwrite some part of the style using the `sk-estimator` class\n*/\n\n/* Pipeline and ColumnTransformer style (default) */\n\n#sk-container-id-1 div.sk-toggleable {\n  /* Default theme specific background. It is overwritten whether we have a\n  specific estimator or a Pipeline/ColumnTransformer */\n  background-color: var(--sklearn-color-background);\n}\n\n/* Toggleable label */\n#sk-container-id-1 label.sk-toggleable__label {\n  cursor: pointer;\n  display: block;\n  width: 100%;\n  margin-bottom: 0;\n  padding: 0.5em;\n  box-sizing: border-box;\n  text-align: center;\n}\n\n#sk-container-id-1 label.sk-toggleable__label-arrow:before {\n  /* Arrow on the left of the label */\n  content: \"▸\";\n  float: left;\n  margin-right: 0.25em;\n  color: var(--sklearn-color-icon);\n}\n\n#sk-container-id-1 label.sk-toggleable__label-arrow:hover:before {\n  color: var(--sklearn-color-text);\n}\n\n/* Toggleable content - dropdown */\n\n#sk-container-id-1 div.sk-toggleable__content {\n  max-height: 0;\n  max-width: 0;\n  overflow: hidden;\n  text-align: left;\n  /* unfitted */\n  background-color: var(--sklearn-color-unfitted-level-0);\n}\n\n#sk-container-id-1 div.sk-toggleable__content.fitted {\n  /* fitted */\n  background-color: var(--sklearn-color-fitted-level-0);\n}\n\n#sk-container-id-1 div.sk-toggleable__content pre {\n  margin: 0.2em;\n  border-radius: 0.25em;\n  color: var(--sklearn-color-text);\n  /* unfitted */\n  background-color: var(--sklearn-color-unfitted-level-0);\n}\n\n#sk-container-id-1 div.sk-toggleable__content.fitted pre {\n  /* unfitted */\n  background-color: var(--sklearn-color-fitted-level-0);\n}\n\n#sk-container-id-1 input.sk-toggleable__control:checked~div.sk-toggleable__content {\n  /* Expand drop-down */\n  max-height: 200px;\n  max-width: 100%;\n  overflow: auto;\n}\n\n#sk-container-id-1 input.sk-toggleable__control:checked~label.sk-toggleable__label-arrow:before {\n  content: \"▾\";\n}\n\n/* Pipeline/ColumnTransformer-specific style */\n\n#sk-container-id-1 div.sk-label input.sk-toggleable__control:checked~label.sk-toggleable__label {\n  color: var(--sklearn-color-text);\n  background-color: var(--sklearn-color-unfitted-level-2);\n}\n\n#sk-container-id-1 div.sk-label.fitted input.sk-toggleable__control:checked~label.sk-toggleable__label {\n  background-color: var(--sklearn-color-fitted-level-2);\n}\n\n/* Estimator-specific style */\n\n/* Colorize estimator box */\n#sk-container-id-1 div.sk-estimator input.sk-toggleable__control:checked~label.sk-toggleable__label {\n  /* unfitted */\n  background-color: var(--sklearn-color-unfitted-level-2);\n}\n\n#sk-container-id-1 div.sk-estimator.fitted input.sk-toggleable__control:checked~label.sk-toggleable__label {\n  /* fitted */\n  background-color: var(--sklearn-color-fitted-level-2);\n}\n\n#sk-container-id-1 div.sk-label label.sk-toggleable__label,\n#sk-container-id-1 div.sk-label label {\n  /* The background is the default theme color */\n  color: var(--sklearn-color-text-on-default-background);\n}\n\n/* On hover, darken the color of the background */\n#sk-container-id-1 div.sk-label:hover label.sk-toggleable__label {\n  color: var(--sklearn-color-text);\n  background-color: var(--sklearn-color-unfitted-level-2);\n}\n\n/* Label box, darken color on hover, fitted */\n#sk-container-id-1 div.sk-label.fitted:hover label.sk-toggleable__label.fitted {\n  color: var(--sklearn-color-text);\n  background-color: var(--sklearn-color-fitted-level-2);\n}\n\n/* Estimator label */\n\n#sk-container-id-1 div.sk-label label {\n  font-family: monospace;\n  font-weight: bold;\n  display: inline-block;\n  line-height: 1.2em;\n}\n\n#sk-container-id-1 div.sk-label-container {\n  text-align: center;\n}\n\n/* Estimator-specific */\n#sk-container-id-1 div.sk-estimator {\n  font-family: monospace;\n  border: 1px dotted var(--sklearn-color-border-box);\n  border-radius: 0.25em;\n  box-sizing: border-box;\n  margin-bottom: 0.5em;\n  /* unfitted */\n  background-color: var(--sklearn-color-unfitted-level-0);\n}\n\n#sk-container-id-1 div.sk-estimator.fitted {\n  /* fitted */\n  background-color: var(--sklearn-color-fitted-level-0);\n}\n\n/* on hover */\n#sk-container-id-1 div.sk-estimator:hover {\n  /* unfitted */\n  background-color: var(--sklearn-color-unfitted-level-2);\n}\n\n#sk-container-id-1 div.sk-estimator.fitted:hover {\n  /* fitted */\n  background-color: var(--sklearn-color-fitted-level-2);\n}\n\n/* Specification for estimator info (e.g. \"i\" and \"?\") */\n\n/* Common style for \"i\" and \"?\" */\n\n.sk-estimator-doc-link,\na:link.sk-estimator-doc-link,\na:visited.sk-estimator-doc-link {\n  float: right;\n  font-size: smaller;\n  line-height: 1em;\n  font-family: monospace;\n  background-color: var(--sklearn-color-background);\n  border-radius: 1em;\n  height: 1em;\n  width: 1em;\n  text-decoration: none !important;\n  margin-left: 1ex;\n  /* unfitted */\n  border: var(--sklearn-color-unfitted-level-1) 1pt solid;\n  color: var(--sklearn-color-unfitted-level-1);\n}\n\n.sk-estimator-doc-link.fitted,\na:link.sk-estimator-doc-link.fitted,\na:visited.sk-estimator-doc-link.fitted {\n  /* fitted */\n  border: var(--sklearn-color-fitted-level-1) 1pt solid;\n  color: var(--sklearn-color-fitted-level-1);\n}\n\n/* On hover */\ndiv.sk-estimator:hover .sk-estimator-doc-link:hover,\n.sk-estimator-doc-link:hover,\ndiv.sk-label-container:hover .sk-estimator-doc-link:hover,\n.sk-estimator-doc-link:hover {\n  /* unfitted */\n  background-color: var(--sklearn-color-unfitted-level-3);\n  color: var(--sklearn-color-background);\n  text-decoration: none;\n}\n\ndiv.sk-estimator.fitted:hover .sk-estimator-doc-link.fitted:hover,\n.sk-estimator-doc-link.fitted:hover,\ndiv.sk-label-container:hover .sk-estimator-doc-link.fitted:hover,\n.sk-estimator-doc-link.fitted:hover {\n  /* fitted */\n  background-color: var(--sklearn-color-fitted-level-3);\n  color: var(--sklearn-color-background);\n  text-decoration: none;\n}\n\n/* Span, style for the box shown on hovering the info icon */\n.sk-estimator-doc-link span {\n  display: none;\n  z-index: 9999;\n  position: relative;\n  font-weight: normal;\n  right: .2ex;\n  padding: .5ex;\n  margin: .5ex;\n  width: min-content;\n  min-width: 20ex;\n  max-width: 50ex;\n  color: var(--sklearn-color-text);\n  box-shadow: 2pt 2pt 4pt #999;\n  /* unfitted */\n  background: var(--sklearn-color-unfitted-level-0);\n  border: .5pt solid var(--sklearn-color-unfitted-level-3);\n}\n\n.sk-estimator-doc-link.fitted span {\n  /* fitted */\n  background: var(--sklearn-color-fitted-level-0);\n  border: var(--sklearn-color-fitted-level-3);\n}\n\n.sk-estimator-doc-link:hover span {\n  display: block;\n}\n\n/* \"?\"-specific style due to the `<a>` HTML tag */\n\n#sk-container-id-1 a.estimator_doc_link {\n  float: right;\n  font-size: 1rem;\n  line-height: 1em;\n  font-family: monospace;\n  background-color: var(--sklearn-color-background);\n  border-radius: 1rem;\n  height: 1rem;\n  width: 1rem;\n  text-decoration: none;\n  /* unfitted */\n  color: var(--sklearn-color-unfitted-level-1);\n  border: var(--sklearn-color-unfitted-level-1) 1pt solid;\n}\n\n#sk-container-id-1 a.estimator_doc_link.fitted {\n  /* fitted */\n  border: var(--sklearn-color-fitted-level-1) 1pt solid;\n  color: var(--sklearn-color-fitted-level-1);\n}\n\n/* On hover */\n#sk-container-id-1 a.estimator_doc_link:hover {\n  /* unfitted */\n  background-color: var(--sklearn-color-unfitted-level-3);\n  color: var(--sklearn-color-background);\n  text-decoration: none;\n}\n\n#sk-container-id-1 a.estimator_doc_link.fitted:hover {\n  /* fitted */\n  background-color: var(--sklearn-color-fitted-level-3);\n}\n</style><div id=\"sk-container-id-1\" class=\"sk-top-container\"><div class=\"sk-text-repr-fallback\"><pre>Birch(n_clusters=5)</pre><b>In a Jupyter environment, please rerun this cell to show the HTML representation or trust the notebook. <br />On GitHub, the HTML representation is unable to render, please try loading this page with nbviewer.org.</b></div><div class=\"sk-container\" hidden><div class=\"sk-item\"><div class=\"sk-estimator fitted sk-toggleable\"><input class=\"sk-toggleable__control sk-hidden--visually\" id=\"sk-estimator-id-1\" type=\"checkbox\" checked><label for=\"sk-estimator-id-1\" class=\"sk-toggleable__label fitted sk-toggleable__label-arrow fitted\">&nbsp;&nbsp;Birch<a class=\"sk-estimator-doc-link fitted\" rel=\"noreferrer\" target=\"_blank\" href=\"https://scikit-learn.org/1.4/modules/generated/sklearn.cluster.Birch.html\">?<span>Documentation for Birch</span></a><span class=\"sk-estimator-doc-link fitted\">i<span>Fitted</span></span></label><div class=\"sk-toggleable__content fitted\"><pre>Birch(n_clusters=5)</pre></div> </div></div></div></div>"
     },
     "execution_count": 12,
     "metadata": {},
     "output_type": "execute_result"
    }
   ],
   "source": [
    "kmeans.fit(an_df)\n",
    "birch.fit(an_df)"
   ]
  },
  {
   "cell_type": "code",
   "execution_count": 13,
   "id": "f01a89e31dd3fbbe",
   "metadata": {
    "collapsed": false,
    "ExecuteTime": {
     "end_time": "2024-05-11T07:03:52.538725400Z",
     "start_time": "2024-05-11T07:03:52.497346200Z"
    }
   },
   "outputs": [],
   "source": [
    "df_pca_clusters = df_pca.copy(deep=True)\n",
    "df_pca_2_clusters = df_pca_2.copy(deep=True)"
   ]
  },
  {
   "cell_type": "code",
   "execution_count": 14,
   "id": "aa9497f7d94095",
   "metadata": {
    "collapsed": false,
    "ExecuteTime": {
     "end_time": "2024-05-11T07:03:59.038781500Z",
     "start_time": "2024-05-11T07:03:58.900798800Z"
    }
   },
   "outputs": [],
   "source": [
    "df_pca_clusters['kmeans'] = kmeans.fit(df_pca).labels_\n",
    "df_pca_clusters['birch'] = birch.fit(df_pca).labels_\n",
    "\n",
    "df_pca_2_clusters['kmeans'] = kmeans.fit(df_pca_2).labels_\n",
    "df_pca_2_clusters['birch'] = birch.fit(df_pca_2).labels_"
   ]
  },
  {
   "cell_type": "code",
   "execution_count": 71,
   "id": "8a4a818381abf643",
   "metadata": {
    "ExecuteTime": {
     "end_time": "2024-05-10T19:08:18.236526500Z",
     "start_time": "2024-05-10T19:08:10.907847500Z"
    },
    "collapsed": false
   },
   "outputs": [
    {
     "data": {
      "text/plain": [
       "<seaborn.axisgrid.PairGrid at 0x18e59aaafb0>"
      ]
     },
     "execution_count": 71,
     "metadata": {},
     "output_type": "execute_result"
    },
    {
     "data": {
      "image/png": "[encoded data removed]",
      "text/plain": [
       "<Figure size 808.875x750 with 12 Axes>"
      ]
     },
     "metadata": {},
     "output_type": "display_data"
    }
   ],
   "source": [
    "g = sns.PairGrid(df_pca_clusters[[0, 1, 3, 'birch']], hue='birch')\n",
    "g.map_upper(sns.scatterplot)\n",
    "g.map_lower(sns.kdeplot)\n",
    "g.map_diag(sns.histplot)\n",
    "g.add_legend()\n",
    "g"
   ]
  },
  {
   "cell_type": "code",
   "execution_count": 72,
   "id": "dd3e34420e533b45",
   "metadata": {
    "ExecuteTime": {
     "end_time": "2024-05-10T19:08:29.669313300Z",
     "start_time": "2024-05-10T19:08:25.849635300Z"
    },
    "collapsed": false
   },
   "outputs": [
    {
     "data": {
      "text/plain": [
       "<seaborn.axisgrid.PairGrid at 0x18e5a78e2c0>"
      ]
     },
     "execution_count": 72,
     "metadata": {},
     "output_type": "execute_result"
    },
    {
     "data": {
      "image/png": "[encoded data removed]",
      "text/plain": [
       "<Figure size 558.875x500 with 6 Axes>"
      ]
     },
     "metadata": {},
     "output_type": "display_data"
    }
   ],
   "source": [
    "g = sns.PairGrid(df_pca_2_clusters[[0,1,'birch']], hue='birch')\n",
    "g.map_upper(sns.scatterplot)\n",
    "g.map_lower(sns.kdeplot)\n",
    "g.map_diag(sns.histplot)\n",
    "g.add_legend()\n",
    "g"
   ]
  },
  {
   "cell_type": "code",
   "execution_count": 74,
   "id": "486089d999196d42",
   "metadata": {
    "ExecuteTime": {
     "end_time": "2024-05-10T19:09:50.818909200Z",
     "start_time": "2024-05-10T19:09:50.677711700Z"
    },
    "collapsed": false
   },
   "outputs": [
    {
     "name": "stdout",
     "output_type": "stream",
     "text": [
      "0.4721615790853918\n",
      "342.7245302560892\n",
      "0.7072358826463196\n"
     ]
    }
   ],
   "source": [
    "print(silhouette_score(df_pca_clusters[[0, 1, 3]], df_pca_clusters['kmeans']))\n",
    "print(calinski_harabasz_score(df_pca_clusters[[0, 1, 3]], df_pca_clusters['kmeans']))\n",
    "print(davies_bouldin_score(df_pca_clusters[[0, 1, 3]], df_pca_clusters['kmeans']))"
   ]
  },
  {
   "cell_type": "code",
   "execution_count": 15,
   "id": "4c9b92ba65c1f2ff",
   "metadata": {
    "collapsed": false,
    "ExecuteTime": {
     "end_time": "2024-05-11T07:04:14.469936600Z",
     "start_time": "2024-05-11T07:04:14.421581200Z"
    }
   },
   "outputs": [
    {
     "name": "stdout",
     "output_type": "stream",
     "text": [
      "0.44329794690678814\n",
      "316.51387759766084\n",
      "0.760740022704901\n"
     ]
    }
   ],
   "source": [
    "print(silhouette_score(df_pca_2_clusters[[0,1]], df_pca_clusters['birch']))\n",
    "\n",
    "print(calinski_harabasz_score(df_pca_2_clusters[[0,1]], df_pca_clusters['birch']))\n",
    "\n",
    "print(davies_bouldin_score(df_pca_2_clusters[[0,1]], df_pca_clusters['birch']))"
   ]
  },
  {
   "cell_type": "markdown",
   "id": "6f0adae267d3660c",
   "metadata": {
    "collapsed": false
   },
   "source": [
    "Опишу сразу всё в одной ячейке, их точность оказалась практически идентичной, хотя и процент схождения немного уменьшился, так что наилучшей моделями оказались первые две, не могу определится какая лучше, просто обе примерно одинаково плохи, хотя это конкретно в моих руках всё так плохо)"
   ]
  }
 ],
 "metadata": {
  "kernelspec": {
   "display_name": "Python 3 (ipykernel)",
   "language": "python",
   "name": "python3"
  },
  "language_info": {
   "codemirror_mode": {
    "name": "ipython",
    "version": 3
   },
   "file_extension": ".py",
   "mimetype": "text/x-python",
   "name": "python",
   "nbconvert_exporter": "python",
   "pygments_lexer": "ipython3",
   "version": "3.10.0"
  }
 },
 "nbformat": 4,
 "nbformat_minor": 5
}
