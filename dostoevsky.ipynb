{
 "cells": [
  {
   "cell_type": "code",
   "execution_count": null,
   "id": "initial_id",
   "metadata": {
    "collapsed": true
   },
   "outputs": [],
   "source": [
    "import re\n",
    "\n",
    "import numpy as np\n",
    "from tensorflow.keras.layers import Dense, SimpleRNN, Input, LSTM, Embedding\n",
    "from tensorflow.keras.models import Sequential\n",
    "from tensorflow.keras.optimizers import Adam\n",
    "from tensorflow.keras.preprocessing.text import Tokenizer\n",
    "from tensorflow.keras.preprocessing.sequence import pad_sequences"
   ]
  },
  {
   "cell_type": "code",
   "outputs": [],
   "source": [
    "with open('train_data_true.txt', 'r', encoding='utf-8') as f:\n",
    "    text_true = f.readlines()\n",
    "    text_true[0] = text_true[0].replace(r'\\ufeff', '')\n",
    "    \n",
    "with open('train_data_false', 'r', encoding='utf-8') as f:\n",
    "    text_false = f.readlines()\n",
    "    text_false[0] = text_false[0].replace(r'\\ufeff', '')\n",
    "    \n",
    "texts = text_true + text_false\n",
    "count_true = len(text_true)\n",
    "count_false = len(text_false)\n",
    "total_lines = count_true + count_false"
   ],
   "metadata": {
    "collapsed": false
   },
   "id": "8475f923e9bc109b",
   "execution_count": null
  },
  {
   "cell_type": "code",
   "outputs": [],
   "source": [
    "maxWordsCount = 1000\n",
    "tokenizer = Tokenizer(num_words=maxWordsCount, filters='!–\"—#$%&amp;()*+,-./:;<=>?@[\\\\]^_`{|}~\\t\\n\\r«»', lower=True, split=' ', char_level=False)\n",
    "\n",
    "tokenizer.fit_on_texts(texts)"
   ],
   "metadata": {
    "collapsed": false
   },
   "id": "675f7327eda0041",
   "execution_count": null
  },
  {
   "cell_type": "code",
   "outputs": [],
   "source": [
    "dist = list(tokenizer.word_counts.items())\n",
    "print(dist[:10])\n",
    "print(texts[0][:100])"
   ],
   "metadata": {
    "collapsed": false
   },
   "id": "cf1fcd205c4337d9",
   "execution_count": null
  },
  {
   "cell_type": "code",
   "outputs": [],
   "source": [
    "max_text_len = 10\n",
    "data = tokenizer.texts_to_sequences(texts)\n",
    "data_pad = pad_sequences(data, maxlen=max_text_len)\n",
    "print(data_pad)\n",
    "print( list(tokenizer.word_index.items()) )"
   ],
   "metadata": {
    "collapsed": false
   },
   "id": "f05f7996e95b29b3",
   "execution_count": null
  },
  {
   "cell_type": "code",
   "outputs": [],
   "source": [
    "x = data_pad\n",
    "y = np.array([[1, 0]] * count_true + [[0, 1]] * count_false)\n",
    "\n",
    "print(x.shape, y.shape)"
   ],
   "metadata": {
    "collapsed": false
   },
   "id": "6c13d66bcd5de4da",
   "execution_count": null
  },
  {
   "cell_type": "code",
   "outputs": [],
   "source": [
    "indeces = np.random.choice(x.shape[0], size=x.shape[0], replace=False)\n",
    "x = x[indeces]\n",
    "y = y[indeces]"
   ],
   "metadata": {
    "collapsed": false
   },
   "id": "f5b28faa12a56fc8",
   "execution_count": null
  },
  {
   "cell_type": "code",
   "outputs": [],
   "source": [
    "model = Sequential()\n",
    "model.add(Embedding(maxWordsCount, 128, input_length=max_text_len))\n",
    "model.add(LSTM(128, return_sequences=True))\n",
    "model.add(LSTM(64))\n",
    "model.add(Dense(2, activation='softmax'))\n",
    "\n",
    "\n",
    "model.summary()"
   ],
   "metadata": {
    "collapsed": false
   },
   "id": "b6ae74245b765193",
   "execution_count": null
  },
  {
   "cell_type": "code",
   "outputs": [],
   "source": [
    "model.compile(loss='categorical_crossentropy', metrics=['accuracy'], optimizer=Adam(0.0001))"
   ],
   "metadata": {
    "collapsed": false
   },
   "id": "493df1e06a39bc6e",
   "execution_count": null
  },
  {
   "cell_type": "code",
   "outputs": [],
   "source": [
    "history = model.fit(x, y, batch_size=32, epochs=50)"
   ],
   "metadata": {
    "collapsed": false
   },
   "id": "4b902af0f1350d3c",
   "execution_count": null
  },
  {
   "cell_type": "code",
   "outputs": [],
   "source": [],
   "metadata": {
    "collapsed": false
   },
   "id": "e30353fcc8c2f821"
  }
 ],
 "metadata": {
  "kernelspec": {
   "display_name": "Python 3",
   "language": "python",
   "name": "python3"
  },
  "language_info": {
   "codemirror_mode": {
    "name": "ipython",
    "version": 2
   },
   "file_extension": ".py",
   "mimetype": "text/x-python",
   "name": "python",
   "nbconvert_exporter": "python",
   "pygments_lexer": "ipython2",
   "version": "2.7.6"
  }
 },
 "nbformat": 4,
 "nbformat_minor": 5
}
