{
 "cells": [
  {
   "cell_type": "code",
   "execution_count": 4,
   "id": "initial_id",
   "metadata": {
    "collapsed": true,
    "ExecuteTime": {
     "end_time": "2024-04-19T20:28:19.313927Z",
     "start_time": "2024-04-19T20:28:17.260185200Z"
    }
   },
   "outputs": [
    {
     "data": {
      "text/plain": "                Name                     School  \\\n0         Don Potter        University of Akron   \n1       Emily Potter  The Ohio State University   \n2  Carol Jean Potter  The Ohio State University   \n3         Kim Potter  The Ohio State University   \n4      Graham Potter           Miami University   \n\n                  Job Description  \\\n0              Assistant Lecturer   \n1      Administrative Assistant 3   \n2    Associate Professor-Clinical   \n3           Manager 4, Compliance   \n4  Building and Grounds Assistant   \n\n                                          Department   Earnings  Year  \n0                                        Social Work    2472.00  2019  \n1  Arts and Sciences | Chemistry and Biochemistry...   48538.02  2022  \n2                                         Pediatrics   22722.80  2013  \n3                         Legal Affairs | Compliance  170143.44  2022  \n4                Assoc VP Housing,Dining,Rec,Bus Svc    3075.20  2012  ",
      "text/html": "<div>\n<style scoped>\n    .dataframe tbody tr th:only-of-type {\n        vertical-align: middle;\n    }\n\n    .dataframe tbody tr th {\n        vertical-align: top;\n    }\n\n    .dataframe thead th {\n        text-align: right;\n    }\n</style>\n<table border=\"1\" class=\"dataframe\">\n  <thead>\n    <tr style=\"text-align: right;\">\n      <th></th>\n      <th>Name</th>\n      <th>School</th>\n      <th>Job Description</th>\n      <th>Department</th>\n      <th>Earnings</th>\n      <th>Year</th>\n    </tr>\n  </thead>\n  <tbody>\n    <tr>\n      <th>0</th>\n      <td>Don Potter</td>\n      <td>University of Akron</td>\n      <td>Assistant Lecturer</td>\n      <td>Social Work</td>\n      <td>2472.00</td>\n      <td>2019</td>\n    </tr>\n    <tr>\n      <th>1</th>\n      <td>Emily Potter</td>\n      <td>The Ohio State University</td>\n      <td>Administrative Assistant 3</td>\n      <td>Arts and Sciences | Chemistry and Biochemistry...</td>\n      <td>48538.02</td>\n      <td>2022</td>\n    </tr>\n    <tr>\n      <th>2</th>\n      <td>Carol Jean Potter</td>\n      <td>The Ohio State University</td>\n      <td>Associate Professor-Clinical</td>\n      <td>Pediatrics</td>\n      <td>22722.80</td>\n      <td>2013</td>\n    </tr>\n    <tr>\n      <th>3</th>\n      <td>Kim Potter</td>\n      <td>The Ohio State University</td>\n      <td>Manager 4, Compliance</td>\n      <td>Legal Affairs | Compliance</td>\n      <td>170143.44</td>\n      <td>2022</td>\n    </tr>\n    <tr>\n      <th>4</th>\n      <td>Graham Potter</td>\n      <td>Miami University</td>\n      <td>Building and Grounds Assistant</td>\n      <td>Assoc VP Housing,Dining,Rec,Bus Svc</td>\n      <td>3075.20</td>\n      <td>2012</td>\n    </tr>\n  </tbody>\n</table>\n</div>"
     },
     "execution_count": 4,
     "metadata": {},
     "output_type": "execute_result"
    }
   ],
   "source": [
    "import pandas as pd\n",
    "from sklearn import preprocessing\n",
    "from sklearn.preprocessing import OrdinalEncoder, LabelEncoder, OneHotEncoder\n",
    "\n",
    "ds = pd.read_csv(r'higher_ed_employee_salaries.csv', sep=',')\n",
    "\n",
    "ds.head(5)"
   ]
  },
  {
   "cell_type": "markdown",
   "source": [
    "Просто хэд датасета"
   ],
   "metadata": {
    "collapsed": false
   },
   "id": "78c6b0b0185516ce"
  },
  {
   "cell_type": "code",
   "outputs": [
    {
     "data": {
      "text/plain": "                Name School                 Job Description  \\\n0         Don Potter    9.0              Assistant Lecturer   \n1       Emily Potter    7.0      Administrative Assistant 3   \n2  Carol Jean Potter    7.0    Associate Professor-Clinical   \n3         Kim Potter    7.0           Manager 4, Compliance   \n4      Graham Potter    4.0  Building and Grounds Assistant   \n\n                                          Department   Earnings  Year  \n0                                        Social Work    2472.00  2019  \n1  Arts and Sciences | Chemistry and Biochemistry...   48538.02  2022  \n2                                         Pediatrics   22722.80  2013  \n3                         Legal Affairs | Compliance  170143.44  2022  \n4                Assoc VP Housing,Dining,Rec,Bus Svc    3075.20  2012  ",
      "text/html": "<div>\n<style scoped>\n    .dataframe tbody tr th:only-of-type {\n        vertical-align: middle;\n    }\n\n    .dataframe tbody tr th {\n        vertical-align: top;\n    }\n\n    .dataframe thead th {\n        text-align: right;\n    }\n</style>\n<table border=\"1\" class=\"dataframe\">\n  <thead>\n    <tr style=\"text-align: right;\">\n      <th></th>\n      <th>Name</th>\n      <th>School</th>\n      <th>Job Description</th>\n      <th>Department</th>\n      <th>Earnings</th>\n      <th>Year</th>\n    </tr>\n  </thead>\n  <tbody>\n    <tr>\n      <th>0</th>\n      <td>Don Potter</td>\n      <td>9.0</td>\n      <td>Assistant Lecturer</td>\n      <td>Social Work</td>\n      <td>2472.00</td>\n      <td>2019</td>\n    </tr>\n    <tr>\n      <th>1</th>\n      <td>Emily Potter</td>\n      <td>7.0</td>\n      <td>Administrative Assistant 3</td>\n      <td>Arts and Sciences | Chemistry and Biochemistry...</td>\n      <td>48538.02</td>\n      <td>2022</td>\n    </tr>\n    <tr>\n      <th>2</th>\n      <td>Carol Jean Potter</td>\n      <td>7.0</td>\n      <td>Associate Professor-Clinical</td>\n      <td>Pediatrics</td>\n      <td>22722.80</td>\n      <td>2013</td>\n    </tr>\n    <tr>\n      <th>3</th>\n      <td>Kim Potter</td>\n      <td>7.0</td>\n      <td>Manager 4, Compliance</td>\n      <td>Legal Affairs | Compliance</td>\n      <td>170143.44</td>\n      <td>2022</td>\n    </tr>\n    <tr>\n      <th>4</th>\n      <td>Graham Potter</td>\n      <td>4.0</td>\n      <td>Building and Grounds Assistant</td>\n      <td>Assoc VP Housing,Dining,Rec,Bus Svc</td>\n      <td>3075.20</td>\n      <td>2012</td>\n    </tr>\n  </tbody>\n</table>\n</div>"
     },
     "execution_count": 11,
     "metadata": {},
     "output_type": "execute_result"
    }
   ],
   "source": [
    "ordEnc = OrdinalEncoder()\n",
    "ds.loc[:, 'School'] = ordEnc.fit_transform(ds.loc[:, 'School'].to_frame())\n",
    "\n",
    "ds.head(5)"
   ],
   "metadata": {
    "collapsed": false,
    "ExecuteTime": {
     "end_time": "2024-04-17T09:08:08.490846400Z",
     "start_time": "2024-04-17T09:08:07.882426100Z"
    }
   },
   "id": "1209eb220f7b39c0",
   "execution_count": 11
  },
  {
   "cell_type": "markdown",
   "source": [
    "Вообще этот метод используется для с порядковыми котегориальными данными, например, при расставлении уровня образования по учебным заведениям, но найти подходящий датасет сложно, по этому раскидаю школы, как бы по их уровню"
   ],
   "metadata": {
    "collapsed": false
   },
   "id": "6fda3017fcccc70b"
  },
  {
   "cell_type": "code",
   "outputs": [
    {
     "data": {
      "text/plain": "                Name                     School  \\\n0         Don Potter        University of Akron   \n1       Emily Potter  The Ohio State University   \n2  Carol Jean Potter  The Ohio State University   \n3         Kim Potter  The Ohio State University   \n4      Graham Potter           Miami University   \n\n                  Job Description  \\\n0              Assistant Lecturer   \n1      Administrative Assistant 3   \n2    Associate Professor-Clinical   \n3           Manager 4, Compliance   \n4  Building and Grounds Assistant   \n\n                                          Department   Earnings  Year  \n0                                        Social Work    2472.00     8  \n1  Arts and Sciences | Chemistry and Biochemistry...   48538.02    11  \n2                                         Pediatrics   22722.80     2  \n3                         Legal Affairs | Compliance  170143.44    11  \n4                Assoc VP Housing,Dining,Rec,Bus Svc    3075.20     1  ",
      "text/html": "<div>\n<style scoped>\n    .dataframe tbody tr th:only-of-type {\n        vertical-align: middle;\n    }\n\n    .dataframe tbody tr th {\n        vertical-align: top;\n    }\n\n    .dataframe thead th {\n        text-align: right;\n    }\n</style>\n<table border=\"1\" class=\"dataframe\">\n  <thead>\n    <tr style=\"text-align: right;\">\n      <th></th>\n      <th>Name</th>\n      <th>School</th>\n      <th>Job Description</th>\n      <th>Department</th>\n      <th>Earnings</th>\n      <th>Year</th>\n    </tr>\n  </thead>\n  <tbody>\n    <tr>\n      <th>0</th>\n      <td>Don Potter</td>\n      <td>University of Akron</td>\n      <td>Assistant Lecturer</td>\n      <td>Social Work</td>\n      <td>2472.00</td>\n      <td>8</td>\n    </tr>\n    <tr>\n      <th>1</th>\n      <td>Emily Potter</td>\n      <td>The Ohio State University</td>\n      <td>Administrative Assistant 3</td>\n      <td>Arts and Sciences | Chemistry and Biochemistry...</td>\n      <td>48538.02</td>\n      <td>11</td>\n    </tr>\n    <tr>\n      <th>2</th>\n      <td>Carol Jean Potter</td>\n      <td>The Ohio State University</td>\n      <td>Associate Professor-Clinical</td>\n      <td>Pediatrics</td>\n      <td>22722.80</td>\n      <td>2</td>\n    </tr>\n    <tr>\n      <th>3</th>\n      <td>Kim Potter</td>\n      <td>The Ohio State University</td>\n      <td>Manager 4, Compliance</td>\n      <td>Legal Affairs | Compliance</td>\n      <td>170143.44</td>\n      <td>11</td>\n    </tr>\n    <tr>\n      <th>4</th>\n      <td>Graham Potter</td>\n      <td>Miami University</td>\n      <td>Building and Grounds Assistant</td>\n      <td>Assoc VP Housing,Dining,Rec,Bus Svc</td>\n      <td>3075.20</td>\n      <td>1</td>\n    </tr>\n  </tbody>\n</table>\n</div>"
     },
     "execution_count": 13,
     "metadata": {},
     "output_type": "execute_result"
    }
   ],
   "source": [
    "labelencoder = LabelEncoder()\n",
    " \n",
    "ds.loc[:, 'Year'] = labelencoder.fit_transform(ds.loc[:, 'Year'])\n",
    "ds.head(5)"
   ],
   "metadata": {
    "collapsed": false,
    "ExecuteTime": {
     "end_time": "2024-04-17T09:11:43.321661400Z",
     "start_time": "2024-04-17T09:11:43.087622300Z"
    }
   },
   "id": "93f86b6677355c77",
   "execution_count": 13
  },
  {
   "cell_type": "markdown",
   "source": [
    "Опять же не по базе использую, но допустим год в нашем случае это псевдо бинарный признак"
   ],
   "metadata": {
    "collapsed": false
   },
   "id": "3922d959013a4417"
  },
  {
   "cell_type": "code",
   "outputs": [
    {
     "data": {
      "text/plain": "    0    1    2    3    4    5    6    7    8    9    10   11   12\n0  0.0  0.0  0.0  0.0  0.0  0.0  0.0  0.0  0.0  1.0  0.0  0.0  0.0\n1  0.0  0.0  0.0  0.0  0.0  0.0  0.0  1.0  0.0  0.0  0.0  0.0  0.0\n2  0.0  0.0  0.0  0.0  0.0  0.0  0.0  1.0  0.0  0.0  0.0  0.0  0.0\n3  0.0  0.0  0.0  0.0  0.0  0.0  0.0  1.0  0.0  0.0  0.0  0.0  0.0\n4  0.0  0.0  0.0  0.0  1.0  0.0  0.0  0.0  0.0  0.0  0.0  0.0  0.0",
      "text/html": "<div>\n<style scoped>\n    .dataframe tbody tr th:only-of-type {\n        vertical-align: middle;\n    }\n\n    .dataframe tbody tr th {\n        vertical-align: top;\n    }\n\n    .dataframe thead th {\n        text-align: right;\n    }\n</style>\n<table border=\"1\" class=\"dataframe\">\n  <thead>\n    <tr style=\"text-align: right;\">\n      <th></th>\n      <th>0</th>\n      <th>1</th>\n      <th>2</th>\n      <th>3</th>\n      <th>4</th>\n      <th>5</th>\n      <th>6</th>\n      <th>7</th>\n      <th>8</th>\n      <th>9</th>\n      <th>10</th>\n      <th>11</th>\n      <th>12</th>\n    </tr>\n  </thead>\n  <tbody>\n    <tr>\n      <th>0</th>\n      <td>0.0</td>\n      <td>0.0</td>\n      <td>0.0</td>\n      <td>0.0</td>\n      <td>0.0</td>\n      <td>0.0</td>\n      <td>0.0</td>\n      <td>0.0</td>\n      <td>0.0</td>\n      <td>1.0</td>\n      <td>0.0</td>\n      <td>0.0</td>\n      <td>0.0</td>\n    </tr>\n    <tr>\n      <th>1</th>\n      <td>0.0</td>\n      <td>0.0</td>\n      <td>0.0</td>\n      <td>0.0</td>\n      <td>0.0</td>\n      <td>0.0</td>\n      <td>0.0</td>\n      <td>1.0</td>\n      <td>0.0</td>\n      <td>0.0</td>\n      <td>0.0</td>\n      <td>0.0</td>\n      <td>0.0</td>\n    </tr>\n    <tr>\n      <th>2</th>\n      <td>0.0</td>\n      <td>0.0</td>\n      <td>0.0</td>\n      <td>0.0</td>\n      <td>0.0</td>\n      <td>0.0</td>\n      <td>0.0</td>\n      <td>1.0</td>\n      <td>0.0</td>\n      <td>0.0</td>\n      <td>0.0</td>\n      <td>0.0</td>\n      <td>0.0</td>\n    </tr>\n    <tr>\n      <th>3</th>\n      <td>0.0</td>\n      <td>0.0</td>\n      <td>0.0</td>\n      <td>0.0</td>\n      <td>0.0</td>\n      <td>0.0</td>\n      <td>0.0</td>\n      <td>1.0</td>\n      <td>0.0</td>\n      <td>0.0</td>\n      <td>0.0</td>\n      <td>0.0</td>\n      <td>0.0</td>\n    </tr>\n    <tr>\n      <th>4</th>\n      <td>0.0</td>\n      <td>0.0</td>\n      <td>0.0</td>\n      <td>0.0</td>\n      <td>1.0</td>\n      <td>0.0</td>\n      <td>0.0</td>\n      <td>0.0</td>\n      <td>0.0</td>\n      <td>0.0</td>\n      <td>0.0</td>\n      <td>0.0</td>\n      <td>0.0</td>\n    </tr>\n  </tbody>\n</table>\n</div>"
     },
     "execution_count": 25,
     "metadata": {},
     "output_type": "execute_result"
    }
   ],
   "source": [
    "onehot_encoder = OneHotEncoder(sparse_output=False)\n",
    " \n",
    "encoded_df = pd.DataFrame(onehot_encoder.fit_transform(ds[['School']]))\n",
    "encoded_df.head(5)"
   ],
   "metadata": {
    "collapsed": false,
    "ExecuteTime": {
     "end_time": "2024-04-17T09:19:42.987190800Z",
     "start_time": "2024-04-17T09:19:42.338867700Z"
    }
   },
   "id": "83456a7e1e1f3ab",
   "execution_count": 25
  },
  {
   "cell_type": "markdown",
   "source": [
    "Хотел сделать на другом поле, но он переполнял буффер. По этому разбрасал по школам, что бы бинарно, кто где учился"
   ],
   "metadata": {
    "collapsed": false
   },
   "id": "b1c0b8438734e169"
  },
  {
   "cell_type": "code",
   "outputs": [
    {
     "data": {
      "text/plain": "  OBFCM data source       ID  OBFCM ReportingPeriod  Registration Year  \\\n0               OEM  5765924                   2021               2021   \n1               OEM  5766790                   2021               2021   \n2               OEM  8407539                   2021               2021   \n3               OEM  8407565                   2021               2021   \n4               OEM  8407505                   2021               2021   \n\n     TFC_L   TDT_KM  \\\n0   302.89   5116.0   \n1   233.31   3525.7   \n2   683.79  10267.4   \n3  1300.49  17753.3   \n4  1157.96  15453.3   \n\n   Total distance travelled in charge depleting operation with engine off (lifetime) (km)  \\\n0                                                NaN                                        \n1                                                NaN                                        \n2                                                NaN                                        \n3                                                NaN                                        \n4                                                NaN                                        \n\n   Total distance travelled in charge depleting operation with engine running (lifetime) (km)  \\\n0                                                NaN                                            \n1                                                NaN                                            \n2                                                NaN                                            \n3                                                NaN                                            \n4                                                NaN                                            \n\n   Total distance travelled in driver-selectable charge increasing operation (lifetime)  (km)  \\\n0                                                NaN                                            \n1                                                NaN                                            \n2                                                NaN                                            \n3                                                NaN                                            \n4                                                NaN                                            \n\n   Total fuel consumed in charge depleting operation (lifetime) (l)  \\\n0                                                NaN                  \n1                                                NaN                  \n2                                                NaN                  \n3                                                NaN                  \n4                                                NaN                  \n\n   Total fuel consumed in driver-selectable charge increasing operation (lifetime) (l)  \\\n0                                                NaN                                     \n1                                                NaN                                     \n2                                                NaN                                     \n3                                                NaN                                     \n4                                                NaN                                     \n\n   Total grid energy into the battery (lifetime) (kWh)  Used in calculation  \n0                                                NaN                      1  \n1                                                NaN                      1  \n2                                                NaN                      1  \n3                                                NaN                      1  \n4                                                NaN                      1  ",
      "text/html": "<div>\n<style scoped>\n    .dataframe tbody tr th:only-of-type {\n        vertical-align: middle;\n    }\n\n    .dataframe tbody tr th {\n        vertical-align: top;\n    }\n\n    .dataframe thead th {\n        text-align: right;\n    }\n</style>\n<table border=\"1\" class=\"dataframe\">\n  <thead>\n    <tr style=\"text-align: right;\">\n      <th></th>\n      <th>OBFCM data source</th>\n      <th>ID</th>\n      <th>OBFCM ReportingPeriod</th>\n      <th>Registration Year</th>\n      <th>TFC_L</th>\n      <th>TDT_KM</th>\n      <th>Total distance travelled in charge depleting operation with engine off (lifetime) (km)</th>\n      <th>Total distance travelled in charge depleting operation with engine running (lifetime) (km)</th>\n      <th>Total distance travelled in driver-selectable charge increasing operation (lifetime)  (km)</th>\n      <th>Total fuel consumed in charge depleting operation (lifetime) (l)</th>\n      <th>Total fuel consumed in driver-selectable charge increasing operation (lifetime) (l)</th>\n      <th>Total grid energy into the battery (lifetime) (kWh)</th>\n      <th>Used in calculation</th>\n    </tr>\n  </thead>\n  <tbody>\n    <tr>\n      <th>0</th>\n      <td>OEM</td>\n      <td>5765924</td>\n      <td>2021</td>\n      <td>2021</td>\n      <td>302.89</td>\n      <td>5116.0</td>\n      <td>NaN</td>\n      <td>NaN</td>\n      <td>NaN</td>\n      <td>NaN</td>\n      <td>NaN</td>\n      <td>NaN</td>\n      <td>1</td>\n    </tr>\n    <tr>\n      <th>1</th>\n      <td>OEM</td>\n      <td>5766790</td>\n      <td>2021</td>\n      <td>2021</td>\n      <td>233.31</td>\n      <td>3525.7</td>\n      <td>NaN</td>\n      <td>NaN</td>\n      <td>NaN</td>\n      <td>NaN</td>\n      <td>NaN</td>\n      <td>NaN</td>\n      <td>1</td>\n    </tr>\n    <tr>\n      <th>2</th>\n      <td>OEM</td>\n      <td>8407539</td>\n      <td>2021</td>\n      <td>2021</td>\n      <td>683.79</td>\n      <td>10267.4</td>\n      <td>NaN</td>\n      <td>NaN</td>\n      <td>NaN</td>\n      <td>NaN</td>\n      <td>NaN</td>\n      <td>NaN</td>\n      <td>1</td>\n    </tr>\n    <tr>\n      <th>3</th>\n      <td>OEM</td>\n      <td>8407565</td>\n      <td>2021</td>\n      <td>2021</td>\n      <td>1300.49</td>\n      <td>17753.3</td>\n      <td>NaN</td>\n      <td>NaN</td>\n      <td>NaN</td>\n      <td>NaN</td>\n      <td>NaN</td>\n      <td>NaN</td>\n      <td>1</td>\n    </tr>\n    <tr>\n      <th>4</th>\n      <td>OEM</td>\n      <td>8407505</td>\n      <td>2021</td>\n      <td>2021</td>\n      <td>1157.96</td>\n      <td>15453.3</td>\n      <td>NaN</td>\n      <td>NaN</td>\n      <td>NaN</td>\n      <td>NaN</td>\n      <td>NaN</td>\n      <td>NaN</td>\n      <td>1</td>\n    </tr>\n  </tbody>\n</table>\n</div>"
     },
     "execution_count": 17,
     "metadata": {},
     "output_type": "execute_result"
    }
   ],
   "source": [
    "df = pd.read_csv(r'2021_Vans_Raw.csv', sep=',')\n",
    "df.rename(columns={'Total fuel consumed (lifetime) (l)': 'TFC_L', 'Total distance travelled (lifetime) (km)': 'TDT_KM'}, inplace=True)\n",
    "df = df.loc[df['TFC_L'] != 'OEM']\n",
    "df = df.loc[df['TDT_KM'] != 'OEM']\n",
    "df.head(5)"
   ],
   "metadata": {
    "collapsed": false,
    "ExecuteTime": {
     "end_time": "2024-04-19T20:40:36.373322300Z",
     "start_time": "2024-04-19T20:40:36.281035Z"
    }
   },
   "id": "86a5e258109f2a6d",
   "execution_count": 17
  },
  {
   "cell_type": "markdown",
   "source": [
    "Новый датасет на машинках, для наглядности нормализации"
   ],
   "metadata": {
    "collapsed": false
   },
   "id": "2099c0867e73555d"
  },
  {
   "cell_type": "code",
   "outputs": [
    {
     "data": {
      "text/plain": "              0         1\n0     -0.187300 -0.294264\n1     -0.309232 -0.377519\n2      0.207667  0.161498\n3      0.781625  0.899404\n4      0.605280  0.728861\n...         ...       ...\n12296 -0.578679 -0.654769\n12297 -0.578664 -0.655009\n12298 -0.578771 -0.653788\n12299 -0.579024 -0.654745\n12300 -0.578825 -0.654697\n\n[12301 rows x 2 columns]",
      "text/html": "<div>\n<style scoped>\n    .dataframe tbody tr th:only-of-type {\n        vertical-align: middle;\n    }\n\n    .dataframe tbody tr th {\n        vertical-align: top;\n    }\n\n    .dataframe thead th {\n        text-align: right;\n    }\n</style>\n<table border=\"1\" class=\"dataframe\">\n  <thead>\n    <tr style=\"text-align: right;\">\n      <th></th>\n      <th>0</th>\n      <th>1</th>\n    </tr>\n  </thead>\n  <tbody>\n    <tr>\n      <th>0</th>\n      <td>-0.187300</td>\n      <td>-0.294264</td>\n    </tr>\n    <tr>\n      <th>1</th>\n      <td>-0.309232</td>\n      <td>-0.377519</td>\n    </tr>\n    <tr>\n      <th>2</th>\n      <td>0.207667</td>\n      <td>0.161498</td>\n    </tr>\n    <tr>\n      <th>3</th>\n      <td>0.781625</td>\n      <td>0.899404</td>\n    </tr>\n    <tr>\n      <th>4</th>\n      <td>0.605280</td>\n      <td>0.728861</td>\n    </tr>\n    <tr>\n      <th>...</th>\n      <td>...</td>\n      <td>...</td>\n    </tr>\n    <tr>\n      <th>12296</th>\n      <td>-0.578679</td>\n      <td>-0.654769</td>\n    </tr>\n    <tr>\n      <th>12297</th>\n      <td>-0.578664</td>\n      <td>-0.655009</td>\n    </tr>\n    <tr>\n      <th>12298</th>\n      <td>-0.578771</td>\n      <td>-0.653788</td>\n    </tr>\n    <tr>\n      <th>12299</th>\n      <td>-0.579024</td>\n      <td>-0.654745</td>\n    </tr>\n    <tr>\n      <th>12300</th>\n      <td>-0.578825</td>\n      <td>-0.654697</td>\n    </tr>\n  </tbody>\n</table>\n<p>12301 rows × 2 columns</p>\n</div>"
     },
     "execution_count": 19,
     "metadata": {},
     "output_type": "execute_result"
    }
   ],
   "source": [
    "scaler = preprocessing.StandardScaler()\n",
    "standard_df = scaler.fit_transform(df[['TDT_KM', 'TFC_L']])\n",
    "standard_df = pd.DataFrame(standard_df)\n",
    "\n",
    "standard_df"
   ],
   "metadata": {
    "collapsed": false,
    "ExecuteTime": {
     "end_time": "2024-04-19T20:42:44.820169100Z",
     "start_time": "2024-04-19T20:42:44.761406400Z"
    }
   },
   "id": "4b13f191bd07d986",
   "execution_count": 19
  },
  {
   "cell_type": "markdown",
   "source": [
    "Вот таким не хитрым образом я привёл все свои значения к еденичной дисперсии, где стандартное отклонение равно 1"
   ],
   "metadata": {
    "collapsed": false
   },
   "id": "3d054c345faf95cd"
  },
  {
   "cell_type": "code",
   "outputs": [
    {
     "data": {
      "text/plain": "              0         1\n0      0.012464  0.028329\n1      0.008590  0.021822\n2      0.025014  0.063955\n3      0.043252  0.121635\n4      0.037649  0.108304\n...         ...       ...\n12296  0.000028  0.000150\n12297  0.000028  0.000131\n12298  0.000025  0.000226\n12299  0.000017  0.000152\n12300  0.000023  0.000155\n\n[12301 rows x 2 columns]",
      "text/html": "<div>\n<style scoped>\n    .dataframe tbody tr th:only-of-type {\n        vertical-align: middle;\n    }\n\n    .dataframe tbody tr th {\n        vertical-align: top;\n    }\n\n    .dataframe thead th {\n        text-align: right;\n    }\n</style>\n<table border=\"1\" class=\"dataframe\">\n  <thead>\n    <tr style=\"text-align: right;\">\n      <th></th>\n      <th>0</th>\n      <th>1</th>\n    </tr>\n  </thead>\n  <tbody>\n    <tr>\n      <th>0</th>\n      <td>0.012464</td>\n      <td>0.028329</td>\n    </tr>\n    <tr>\n      <th>1</th>\n      <td>0.008590</td>\n      <td>0.021822</td>\n    </tr>\n    <tr>\n      <th>2</th>\n      <td>0.025014</td>\n      <td>0.063955</td>\n    </tr>\n    <tr>\n      <th>3</th>\n      <td>0.043252</td>\n      <td>0.121635</td>\n    </tr>\n    <tr>\n      <th>4</th>\n      <td>0.037649</td>\n      <td>0.108304</td>\n    </tr>\n    <tr>\n      <th>...</th>\n      <td>...</td>\n      <td>...</td>\n    </tr>\n    <tr>\n      <th>12296</th>\n      <td>0.000028</td>\n      <td>0.000150</td>\n    </tr>\n    <tr>\n      <th>12297</th>\n      <td>0.000028</td>\n      <td>0.000131</td>\n    </tr>\n    <tr>\n      <th>12298</th>\n      <td>0.000025</td>\n      <td>0.000226</td>\n    </tr>\n    <tr>\n      <th>12299</th>\n      <td>0.000017</td>\n      <td>0.000152</td>\n    </tr>\n    <tr>\n      <th>12300</th>\n      <td>0.000023</td>\n      <td>0.000155</td>\n    </tr>\n  </tbody>\n</table>\n<p>12301 rows × 2 columns</p>\n</div>"
     },
     "execution_count": 23,
     "metadata": {},
     "output_type": "execute_result"
    }
   ],
   "source": [
    "scaler = preprocessing.MinMaxScaler()\n",
    "minmax_df = scaler.fit_transform(df[['TDT_KM', 'TFC_L']])\n",
    "minmax_df = pd.DataFrame(minmax_df)\n",
    "minmax_df"
   ],
   "metadata": {
    "collapsed": false,
    "ExecuteTime": {
     "end_time": "2024-04-19T20:45:28.988253Z",
     "start_time": "2024-04-19T20:45:28.953251500Z"
    }
   },
   "id": "f5b392dea2274af4",
   "execution_count": 23
  },
  {
   "cell_type": "markdown",
   "source": [
    "А сейчас я как бы уменьшил маштаб данных, не меняя сути, собственно это всё что делает метод"
   ],
   "metadata": {
    "collapsed": false
   },
   "id": "e127ca7a17f28c15"
  },
  {
   "cell_type": "code",
   "outputs": [
    {
     "data": {
      "text/plain": "              0         1\n0      0.012464  0.028329\n1      0.008590  0.021822\n2      0.025014  0.063955\n3      0.043252  0.121635\n4      0.037649  0.108304\n...         ...       ...\n12296  0.000028  0.000150\n12297  0.000028  0.000131\n12298  0.000025  0.000226\n12299  0.000017  0.000152\n12300  0.000023  0.000155\n\n[12301 rows x 2 columns]",
      "text/html": "<div>\n<style scoped>\n    .dataframe tbody tr th:only-of-type {\n        vertical-align: middle;\n    }\n\n    .dataframe tbody tr th {\n        vertical-align: top;\n    }\n\n    .dataframe thead th {\n        text-align: right;\n    }\n</style>\n<table border=\"1\" class=\"dataframe\">\n  <thead>\n    <tr style=\"text-align: right;\">\n      <th></th>\n      <th>0</th>\n      <th>1</th>\n    </tr>\n  </thead>\n  <tbody>\n    <tr>\n      <th>0</th>\n      <td>0.012464</td>\n      <td>0.028329</td>\n    </tr>\n    <tr>\n      <th>1</th>\n      <td>0.008590</td>\n      <td>0.021822</td>\n    </tr>\n    <tr>\n      <th>2</th>\n      <td>0.025014</td>\n      <td>0.063955</td>\n    </tr>\n    <tr>\n      <th>3</th>\n      <td>0.043252</td>\n      <td>0.121635</td>\n    </tr>\n    <tr>\n      <th>4</th>\n      <td>0.037649</td>\n      <td>0.108304</td>\n    </tr>\n    <tr>\n      <th>...</th>\n      <td>...</td>\n      <td>...</td>\n    </tr>\n    <tr>\n      <th>12296</th>\n      <td>0.000028</td>\n      <td>0.000150</td>\n    </tr>\n    <tr>\n      <th>12297</th>\n      <td>0.000028</td>\n      <td>0.000131</td>\n    </tr>\n    <tr>\n      <th>12298</th>\n      <td>0.000025</td>\n      <td>0.000226</td>\n    </tr>\n    <tr>\n      <th>12299</th>\n      <td>0.000017</td>\n      <td>0.000152</td>\n    </tr>\n    <tr>\n      <th>12300</th>\n      <td>0.000023</td>\n      <td>0.000155</td>\n    </tr>\n  </tbody>\n</table>\n<p>12301 rows × 2 columns</p>\n</div>"
     },
     "execution_count": 24,
     "metadata": {},
     "output_type": "execute_result"
    }
   ],
   "source": [
    "scaler = preprocessing.Normalizer()\n",
    "norm = scaler.fit_transform(df[['TDT_KM', 'TFC_L']])\n",
    "norm = pd.DataFrame(minmax_df)\n",
    "\n",
    "norm"
   ],
   "metadata": {
    "collapsed": false,
    "ExecuteTime": {
     "end_time": "2024-04-19T20:50:23.915212300Z",
     "start_time": "2024-04-19T20:50:23.871664300Z"
    }
   },
   "id": "afc3cece2ddf343e",
   "execution_count": 24
  },
  {
   "cell_type": "markdown",
   "source": [
    "Нуууу, он как бы тоже делает нормализацию, вот только работает по смтрокам преобразуя значения в диапозон от -1 до 1"
   ],
   "metadata": {
    "collapsed": false
   },
   "id": "36ecebad2938b304"
  }
 ],
 "metadata": {
  "kernelspec": {
   "display_name": "Python 3",
   "language": "python",
   "name": "python3"
  },
  "language_info": {
   "codemirror_mode": {
    "name": "ipython",
    "version": 2
   },
   "file_extension": ".py",
   "mimetype": "text/x-python",
   "name": "python",
   "nbconvert_exporter": "python",
   "pygments_lexer": "ipython2",
   "version": "2.7.6"
  }
 },
 "nbformat": 4,
 "nbformat_minor": 5
}
