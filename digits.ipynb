{
 "cells": [
  {
   "cell_type": "code",
   "execution_count": null,
   "id": "initial_id",
   "metadata": {
    "collapsed": true
   },
   "outputs": [],
   "source": []
  },
  {
   "cell_type": "code",
   "outputs": [],
   "source": [
    "import numpy as np\n",
    "import matplotlib.pyplot as plt\n",
    "from tensorflow import keras\n",
    "from tensorflow.keras.layers import Dense, Flatten, Conv2D, MaxPooling2D\n",
    "from keras.optimizers import Adam\n",
    "\n",
    "\n",
    "from tensorflow.keras.datasets import mnist\n",
    "from sklearn.model_selection import train_test_split"
   ],
   "metadata": {
    "collapsed": false,
    "ExecuteTime": {
     "end_time": "2024-02-07T07:35:42.108518300Z",
     "start_time": "2024-02-07T07:35:42.063052400Z"
    }
   },
   "id": "1bd8449b18882b10",
   "execution_count": 76
  },
  {
   "cell_type": "code",
   "outputs": [],
   "source": [
    "myAdam = keras.optimizers.legacy.Adam(learning_rate=0.1)\n",
    "mySgd = keras.optimizers.legacy.SGD(learning_rate=0.1, momentum=0.0, nesterov=True)"
   ],
   "metadata": {
    "collapsed": false,
    "ExecuteTime": {
     "end_time": "2024-02-07T07:35:44.694904200Z",
     "start_time": "2024-02-07T07:35:44.675015600Z"
    }
   },
   "id": "ebbcfe31f9723e41",
   "execution_count": 77
  },
  {
   "cell_type": "code",
   "outputs": [
    {
     "name": "stdout",
     "output_type": "stream",
     "text": [
      "Model: \"sequential_21\"\n",
      "_________________________________________________________________\n",
      " Layer (type)                Output Shape              Param #   \n",
      "=================================================================\n",
      " conv2d_6 (Conv2D)           (None, 28, 28, 32)        320       \n",
      "                                                                 \n",
      " max_pooling2d_6 (MaxPoolin  (None, 14, 14, 32)        0         \n",
      " g2D)                                                            \n",
      "                                                                 \n",
      " conv2d_7 (Conv2D)           (None, 14, 14, 64)        18496     \n",
      "                                                                 \n",
      " max_pooling2d_7 (MaxPoolin  (None, 7, 7, 64)          0         \n",
      " g2D)                                                            \n",
      "                                                                 \n",
      " flatten_21 (Flatten)        (None, 3136)              0         \n",
      "                                                                 \n",
      " dense_42 (Dense)            (None, 128)               401536    \n",
      "                                                                 \n",
      " dense_43 (Dense)            (None, 10)                1290      \n",
      "                                                                 \n",
      "=================================================================\n",
      "Total params: 421642 (1.61 MB)\n",
      "Trainable params: 421642 (1.61 MB)\n",
      "Non-trainable params: 0 (0.00 Byte)\n",
      "_________________________________________________________________\n",
      "None\n"
     ]
    }
   ],
   "source": [
    "(x_train, y_train), (x_test, y_test) = mnist.load_data()\n",
    "\n",
    "x_train = x_train / 255\n",
    "x_test = x_test / 255\n",
    "\n",
    "\n",
    "y_train_cat = keras.utils.to_categorical(y_train, 10)\n",
    "y_test_cat = keras.utils.to_categorical(y_test, 10)\n",
    "\n",
    "x_train = np.expand_dims(x_train, axis=3)\n",
    "x_test = np.expand_dims(x_test, axis=3)\n",
    "\n",
    "model = keras.models.Sequential([\n",
    "    #Added\n",
    "    Conv2D(32, (3, 3), padding='same', activation='relu', input_shape=(28, 28, 1)),\n",
    "    MaxPooling2D((2, 2), strides=2),\n",
    "    Conv2D(64, (3, 3), padding='same', activation='relu'),\n",
    "    MaxPooling2D((2, 2), strides=2),\n",
    "    \n",
    "    Flatten(),\n",
    "    Dense(128, activation='relu'),\n",
    "    Dense(10, activation='softmax')\n",
    "])\n",
    "\n",
    "print(model.summary())\n",
    "\n",
    "\n",
    "model.compile(\n",
    "    optimizer='adam',\n",
    "    loss='categorical_crossentropy',\n",
    "    metrics=['accuracy']\n",
    ")\n"
   ],
   "metadata": {
    "collapsed": false,
    "ExecuteTime": {
     "end_time": "2024-02-07T07:46:26.523125Z",
     "start_time": "2024-02-07T07:46:25.285570500Z"
    }
   },
   "id": "23bf22c15e60cd91",
   "execution_count": 85
  },
  {
   "cell_type": "code",
   "outputs": [
    {
     "name": "stdout",
     "output_type": "stream",
     "text": [
      "Epoch 1/5\n",
      "1500/1500 [==============================] - 41s 26ms/step - loss: 0.1437 - accuracy: 0.9560 - val_loss: 0.0657 - val_accuracy: 0.9818\n",
      "Epoch 2/5\n",
      "1500/1500 [==============================] - 38s 26ms/step - loss: 0.0455 - accuracy: 0.9859 - val_loss: 0.0466 - val_accuracy: 0.9875\n",
      "Epoch 3/5\n",
      "1500/1500 [==============================] - 38s 26ms/step - loss: 0.0302 - accuracy: 0.9905 - val_loss: 0.0399 - val_accuracy: 0.9883\n",
      "Epoch 4/5\n",
      "1500/1500 [==============================] - 38s 25ms/step - loss: 0.0214 - accuracy: 0.9930 - val_loss: 0.0463 - val_accuracy: 0.9883\n",
      "Epoch 5/5\n",
      "1500/1500 [==============================] - 39s 26ms/step - loss: 0.0154 - accuracy: 0.9950 - val_loss: 0.0449 - val_accuracy: 0.9865\n"
     ]
    },
    {
     "data": {
      "text/plain": "<keras.src.callbacks.History at 0x2220ffc99c0>"
     },
     "execution_count": 86,
     "metadata": {},
     "output_type": "execute_result"
    }
   ],
   "source": [
    "\n",
    "model.fit(x_train, y_train_cat, batch_size=32, epochs=5, validation_split=0.2)"
   ],
   "metadata": {
    "collapsed": false,
    "ExecuteTime": {
     "end_time": "2024-02-07T07:49:43.950239800Z",
     "start_time": "2024-02-07T07:46:29.133742Z"
    }
   },
   "id": "6ed49ed7c23f48d",
   "execution_count": 86
  },
  {
   "cell_type": "code",
   "outputs": [
    {
     "name": "stdout",
     "output_type": "stream",
     "text": [
      "313/313 [==============================] - 3s 8ms/step - loss: 0.0373 - accuracy: 0.9882\n"
     ]
    },
    {
     "data": {
      "text/plain": "[0.037317801266908646, 0.9882000088691711]"
     },
     "execution_count": 87,
     "metadata": {},
     "output_type": "execute_result"
    }
   ],
   "source": [
    "model.evaluate(x_test, y_test_cat)"
   ],
   "metadata": {
    "collapsed": false,
    "ExecuteTime": {
     "end_time": "2024-02-07T07:49:59.253546800Z",
     "start_time": "2024-02-07T07:49:55.651555600Z"
    }
   },
   "id": "9afd81360231476b",
   "execution_count": 87
  },
  {
   "cell_type": "code",
   "outputs": [
    {
     "name": "stdout",
     "output_type": "stream",
     "text": [
      "1/1 [==============================] - 0s 42ms/step\n",
      "Цифра: 2\n"
     ]
    },
    {
     "data": {
      "text/plain": "<Figure size 640x480 with 1 Axes>",
      "image/png": "[encoded data removed]"
     },
     "metadata": {},
     "output_type": "display_data"
    }
   ],
   "source": [
    "n = 222  \n",
    "x = np.expand_dims(x_test[n], axis=0)\n",
    "\n",
    "res = model.predict(x)\n",
    "print(f'Цифра: {np.argmax(res)}')\n",
    "\n",
    "plt.imshow(x_test[n], cmap=plt.cm.binary)\n",
    "plt.show()"
   ],
   "metadata": {
    "collapsed": false,
    "ExecuteTime": {
     "end_time": "2024-02-07T07:50:25.055167200Z",
     "start_time": "2024-02-07T07:50:24.708067800Z"
    }
   },
   "id": "7fceeb09d065f597",
   "execution_count": 89
  }
 ],
 "metadata": {
  "kernelspec": {
   "display_name": "Python 3",
   "language": "python",
   "name": "python3"
  },
  "language_info": {
   "codemirror_mode": {
    "name": "ipython",
    "version": 2
   },
   "file_extension": ".py",
   "mimetype": "text/x-python",
   "name": "python",
   "nbconvert_exporter": "python",
   "pygments_lexer": "ipython2",
   "version": "2.7.6"
  }
 },
 "nbformat": 4,
 "nbformat_minor": 5
}
